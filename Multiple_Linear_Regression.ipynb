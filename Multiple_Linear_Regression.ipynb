{
 "cells": [
  {
   "cell_type": "markdown",
   "id": "0f98eb6a",
   "metadata": {},
   "source": [
    "### Here, three predictiing variables were considered to determine the varying prices of a house. At the end of the analysis, we would see which factor/factors (Area, distance, and crime rate) are insignificant  in the model."
   ]
  },
  {
   "cell_type": "code",
   "execution_count": 71,
   "id": "62c52c4d",
   "metadata": {},
   "outputs": [],
   "source": [
    "# Import the libraries needed\n",
    "import pandas as pd\n",
    "from sklearn.model_selection import train_test_split\n",
    "from sklearn.linear_model import LinearRegression\n",
    "import numpy as np\n",
    "import matplotlib.pyplot as plt"
   ]
  },
  {
   "cell_type": "code",
   "execution_count": 72,
   "id": "9cefab47",
   "metadata": {
    "scrolled": true
   },
   "outputs": [
    {
     "data": {
      "text/html": [
       "<div>\n",
       "<style scoped>\n",
       "    .dataframe tbody tr th:only-of-type {\n",
       "        vertical-align: middle;\n",
       "    }\n",
       "\n",
       "    .dataframe tbody tr th {\n",
       "        vertical-align: top;\n",
       "    }\n",
       "\n",
       "    .dataframe thead th {\n",
       "        text-align: right;\n",
       "    }\n",
       "</style>\n",
       "<table border=\"1\" class=\"dataframe\">\n",
       "  <thead>\n",
       "    <tr style=\"text-align: right;\">\n",
       "      <th></th>\n",
       "      <th>Area</th>\n",
       "      <th>Distance</th>\n",
       "      <th>Crime Rate</th>\n",
       "      <th>Price</th>\n",
       "    </tr>\n",
       "  </thead>\n",
       "  <tbody>\n",
       "    <tr>\n",
       "      <th>0</th>\n",
       "      <td>89</td>\n",
       "      <td>4</td>\n",
       "      <td>3.84</td>\n",
       "      <td>7.0</td>\n",
       "    </tr>\n",
       "    <tr>\n",
       "      <th>1</th>\n",
       "      <td>66</td>\n",
       "      <td>1</td>\n",
       "      <td>3.19</td>\n",
       "      <td>5.4</td>\n",
       "    </tr>\n",
       "    <tr>\n",
       "      <th>2</th>\n",
       "      <td>78</td>\n",
       "      <td>3</td>\n",
       "      <td>3.78</td>\n",
       "      <td>6.6</td>\n",
       "    </tr>\n",
       "    <tr>\n",
       "      <th>3</th>\n",
       "      <td>111</td>\n",
       "      <td>6</td>\n",
       "      <td>3.89</td>\n",
       "      <td>7.4</td>\n",
       "    </tr>\n",
       "    <tr>\n",
       "      <th>4</th>\n",
       "      <td>44</td>\n",
       "      <td>1</td>\n",
       "      <td>3.57</td>\n",
       "      <td>4.8</td>\n",
       "    </tr>\n",
       "    <tr>\n",
       "      <th>5</th>\n",
       "      <td>77</td>\n",
       "      <td>3</td>\n",
       "      <td>3.57</td>\n",
       "      <td>6.4</td>\n",
       "    </tr>\n",
       "    <tr>\n",
       "      <th>6</th>\n",
       "      <td>80</td>\n",
       "      <td>3</td>\n",
       "      <td>3.03</td>\n",
       "      <td>7.0</td>\n",
       "    </tr>\n",
       "    <tr>\n",
       "      <th>7</th>\n",
       "      <td>66</td>\n",
       "      <td>2</td>\n",
       "      <td>3.51</td>\n",
       "      <td>5.6</td>\n",
       "    </tr>\n",
       "    <tr>\n",
       "      <th>8</th>\n",
       "      <td>109</td>\n",
       "      <td>5</td>\n",
       "      <td>3.54</td>\n",
       "      <td>7.3</td>\n",
       "    </tr>\n",
       "    <tr>\n",
       "      <th>9</th>\n",
       "      <td>75</td>\n",
       "      <td>3</td>\n",
       "      <td>3.25</td>\n",
       "      <td>6.4</td>\n",
       "    </tr>\n",
       "    <tr>\n",
       "      <th>10</th>\n",
       "      <td>85</td>\n",
       "      <td>2</td>\n",
       "      <td>3.31</td>\n",
       "      <td>6.9</td>\n",
       "    </tr>\n",
       "    <tr>\n",
       "      <th>11</th>\n",
       "      <td>110</td>\n",
       "      <td>6</td>\n",
       "      <td>3.20</td>\n",
       "      <td>7.3</td>\n",
       "    </tr>\n",
       "    <tr>\n",
       "      <th>12</th>\n",
       "      <td>45</td>\n",
       "      <td>1</td>\n",
       "      <td>3.70</td>\n",
       "      <td>4.8</td>\n",
       "    </tr>\n",
       "    <tr>\n",
       "      <th>13</th>\n",
       "      <td>79</td>\n",
       "      <td>1</td>\n",
       "      <td>3.21</td>\n",
       "      <td>6.8</td>\n",
       "    </tr>\n",
       "    <tr>\n",
       "      <th>14</th>\n",
       "      <td>90</td>\n",
       "      <td>4</td>\n",
       "      <td>3.87</td>\n",
       "      <td>7.0</td>\n",
       "    </tr>\n",
       "    <tr>\n",
       "      <th>15</th>\n",
       "      <td>76</td>\n",
       "      <td>2</td>\n",
       "      <td>3.56</td>\n",
       "      <td>6.5</td>\n",
       "    </tr>\n",
       "    <tr>\n",
       "      <th>16</th>\n",
       "      <td>81</td>\n",
       "      <td>3</td>\n",
       "      <td>3.21</td>\n",
       "      <td>7.0</td>\n",
       "    </tr>\n",
       "  </tbody>\n",
       "</table>\n",
       "</div>"
      ],
      "text/plain": [
       "    Area  Distance  Crime Rate  Price\n",
       "0     89         4        3.84    7.0\n",
       "1     66         1        3.19    5.4\n",
       "2     78         3        3.78    6.6\n",
       "3    111         6        3.89    7.4\n",
       "4     44         1        3.57    4.8\n",
       "5     77         3        3.57    6.4\n",
       "6     80         3        3.03    7.0\n",
       "7     66         2        3.51    5.6\n",
       "8    109         5        3.54    7.3\n",
       "9     75         3        3.25    6.4\n",
       "10    85         2        3.31    6.9\n",
       "11   110         6        3.20    7.3\n",
       "12    45         1        3.70    4.8\n",
       "13    79         1        3.21    6.8\n",
       "14    90         4        3.87    7.0\n",
       "15    76         2        3.56    6.5\n",
       "16    81         3        3.21    7.0"
      ]
     },
     "execution_count": 72,
     "metadata": {},
     "output_type": "execute_result"
    }
   ],
   "source": [
    "# import the dataset\n",
    "dataset = pd.read_csv('/Users/lambertagunbiade/Desktop/SUPERVISED MACHINE LEARNING /landprice1.csv')\n",
    "dataset"
   ]
  },
  {
   "cell_type": "markdown",
   "id": "1ad93fea",
   "metadata": {},
   "source": [
    "* This data set shows two more variables unlike the previous data set but with same meaning."
   ]
  },
  {
   "cell_type": "markdown",
   "id": "88748968",
   "metadata": {},
   "source": [
    "#### Separate the target(price) variable from the predictors"
   ]
  },
  {
   "cell_type": "code",
   "execution_count": 73,
   "id": "0c08419b",
   "metadata": {},
   "outputs": [],
   "source": [
    "X = dataset.iloc[0:,0:3].values # read all rows from index zero to the end but read only the columns between index 0 to 2\n",
    "Y = dataset.iloc[0:, 3].values  # All rows and the last column(index number 3 only)."
   ]
  },
  {
   "cell_type": "markdown",
   "id": "3e33cab2",
   "metadata": {},
   "source": [
    "#### View the data sets again"
   ]
  },
  {
   "cell_type": "code",
   "execution_count": 74,
   "id": "a23a9caa",
   "metadata": {},
   "outputs": [
    {
     "name": "stdout",
     "output_type": "stream",
     "text": [
      "X Predicting variables\n",
      "\n",
      " [[ 89.     4.     3.84]\n",
      " [ 66.     1.     3.19]\n",
      " [ 78.     3.     3.78]\n",
      " [111.     6.     3.89]\n",
      " [ 44.     1.     3.57]\n",
      " [ 77.     3.     3.57]\n",
      " [ 80.     3.     3.03]\n",
      " [ 66.     2.     3.51]\n",
      " [109.     5.     3.54]\n",
      " [ 75.     3.     3.25]\n",
      " [ 85.     2.     3.31]\n",
      " [110.     6.     3.2 ]\n",
      " [ 45.     1.     3.7 ]\n",
      " [ 79.     1.     3.21]\n",
      " [ 90.     4.     3.87]\n",
      " [ 76.     2.     3.56]\n",
      " [ 81.     3.     3.21]] \n",
      "\n",
      "Dependent variable Y \n",
      "\n",
      " [7.  5.4 6.6 7.4 4.8 6.4 7.  5.6 7.3 6.4 6.9 7.3 4.8 6.8 7.  6.5 7. ]\n"
     ]
    }
   ],
   "source": [
    "print('X Predicting variables\\n\\n', X,'\\n\\nDependent variable Y \\n\\n',Y)"
   ]
  },
  {
   "cell_type": "markdown",
   "id": "f2b10a72",
   "metadata": {},
   "source": [
    "#### Split the data set into training and testing data"
   ]
  },
  {
   "cell_type": "code",
   "execution_count": 75,
   "id": "969ee8cb",
   "metadata": {},
   "outputs": [],
   "source": [
    "X_train,X_test, Y_train, Y_test = train_test_split(X,Y, test_size=0.4, random_state=0)"
   ]
  },
  {
   "cell_type": "code",
   "execution_count": 76,
   "id": "45ea1980",
   "metadata": {},
   "outputs": [
    {
     "name": "stdout",
     "output_type": "stream",
     "text": [
      "[[ 66.     1.     3.19]\n",
      " [ 80.     3.     3.03]\n",
      " [109.     5.     3.54]\n",
      " [ 75.     3.     3.25]\n",
      " [ 79.     1.     3.21]\n",
      " [ 44.     1.     3.57]\n",
      " [ 78.     3.     3.78]]\n"
     ]
    }
   ],
   "source": [
    "print(X_test)"
   ]
  },
  {
   "cell_type": "markdown",
   "id": "1dc924cd",
   "metadata": {},
   "source": [
    "#### Instantiate the linear regression class ."
   ]
  },
  {
   "cell_type": "code",
   "execution_count": 77,
   "id": "396f8616",
   "metadata": {},
   "outputs": [
    {
     "data": {
      "text/html": [
       "<style>#sk-container-id-4 {color: black;}#sk-container-id-4 pre{padding: 0;}#sk-container-id-4 div.sk-toggleable {background-color: white;}#sk-container-id-4 label.sk-toggleable__label {cursor: pointer;display: block;width: 100%;margin-bottom: 0;padding: 0.3em;box-sizing: border-box;text-align: center;}#sk-container-id-4 label.sk-toggleable__label-arrow:before {content: \"▸\";float: left;margin-right: 0.25em;color: #696969;}#sk-container-id-4 label.sk-toggleable__label-arrow:hover:before {color: black;}#sk-container-id-4 div.sk-estimator:hover label.sk-toggleable__label-arrow:before {color: black;}#sk-container-id-4 div.sk-toggleable__content {max-height: 0;max-width: 0;overflow: hidden;text-align: left;background-color: #f0f8ff;}#sk-container-id-4 div.sk-toggleable__content pre {margin: 0.2em;color: black;border-radius: 0.25em;background-color: #f0f8ff;}#sk-container-id-4 input.sk-toggleable__control:checked~div.sk-toggleable__content {max-height: 200px;max-width: 100%;overflow: auto;}#sk-container-id-4 input.sk-toggleable__control:checked~label.sk-toggleable__label-arrow:before {content: \"▾\";}#sk-container-id-4 div.sk-estimator input.sk-toggleable__control:checked~label.sk-toggleable__label {background-color: #d4ebff;}#sk-container-id-4 div.sk-label input.sk-toggleable__control:checked~label.sk-toggleable__label {background-color: #d4ebff;}#sk-container-id-4 input.sk-hidden--visually {border: 0;clip: rect(1px 1px 1px 1px);clip: rect(1px, 1px, 1px, 1px);height: 1px;margin: -1px;overflow: hidden;padding: 0;position: absolute;width: 1px;}#sk-container-id-4 div.sk-estimator {font-family: monospace;background-color: #f0f8ff;border: 1px dotted black;border-radius: 0.25em;box-sizing: border-box;margin-bottom: 0.5em;}#sk-container-id-4 div.sk-estimator:hover {background-color: #d4ebff;}#sk-container-id-4 div.sk-parallel-item::after {content: \"\";width: 100%;border-bottom: 1px solid gray;flex-grow: 1;}#sk-container-id-4 div.sk-label:hover label.sk-toggleable__label {background-color: #d4ebff;}#sk-container-id-4 div.sk-serial::before {content: \"\";position: absolute;border-left: 1px solid gray;box-sizing: border-box;top: 0;bottom: 0;left: 50%;z-index: 0;}#sk-container-id-4 div.sk-serial {display: flex;flex-direction: column;align-items: center;background-color: white;padding-right: 0.2em;padding-left: 0.2em;position: relative;}#sk-container-id-4 div.sk-item {position: relative;z-index: 1;}#sk-container-id-4 div.sk-parallel {display: flex;align-items: stretch;justify-content: center;background-color: white;position: relative;}#sk-container-id-4 div.sk-item::before, #sk-container-id-4 div.sk-parallel-item::before {content: \"\";position: absolute;border-left: 1px solid gray;box-sizing: border-box;top: 0;bottom: 0;left: 50%;z-index: -1;}#sk-container-id-4 div.sk-parallel-item {display: flex;flex-direction: column;z-index: 1;position: relative;background-color: white;}#sk-container-id-4 div.sk-parallel-item:first-child::after {align-self: flex-end;width: 50%;}#sk-container-id-4 div.sk-parallel-item:last-child::after {align-self: flex-start;width: 50%;}#sk-container-id-4 div.sk-parallel-item:only-child::after {width: 0;}#sk-container-id-4 div.sk-dashed-wrapped {border: 1px dashed gray;margin: 0 0.4em 0.5em 0.4em;box-sizing: border-box;padding-bottom: 0.4em;background-color: white;}#sk-container-id-4 div.sk-label label {font-family: monospace;font-weight: bold;display: inline-block;line-height: 1.2em;}#sk-container-id-4 div.sk-label-container {text-align: center;}#sk-container-id-4 div.sk-container {/* jupyter's `normalize.less` sets `[hidden] { display: none; }` but bootstrap.min.css set `[hidden] { display: none !important; }` so we also need the `!important` here to be able to override the default hidden behavior on the sphinx rendered scikit-learn.org. See: https://github.com/scikit-learn/scikit-learn/issues/21755 */display: inline-block !important;position: relative;}#sk-container-id-4 div.sk-text-repr-fallback {display: none;}</style><div id=\"sk-container-id-4\" class=\"sk-top-container\"><div class=\"sk-text-repr-fallback\"><pre>LinearRegression()</pre><b>In a Jupyter environment, please rerun this cell to show the HTML representation or trust the notebook. <br />On GitHub, the HTML representation is unable to render, please try loading this page with nbviewer.org.</b></div><div class=\"sk-container\" hidden><div class=\"sk-item\"><div class=\"sk-estimator sk-toggleable\"><input class=\"sk-toggleable__control sk-hidden--visually\" id=\"sk-estimator-id-4\" type=\"checkbox\" checked><label for=\"sk-estimator-id-4\" class=\"sk-toggleable__label sk-toggleable__label-arrow\">LinearRegression</label><div class=\"sk-toggleable__content\"><pre>LinearRegression()</pre></div></div></div></div></div>"
      ],
      "text/plain": [
       "LinearRegression()"
      ]
     },
     "execution_count": 77,
     "metadata": {},
     "output_type": "execute_result"
    }
   ],
   "source": [
    "lin_regressor = LinearRegression()\n",
    "lin_regressor.fit(X_train, Y_train)"
   ]
  },
  {
   "cell_type": "markdown",
   "id": "987a2911",
   "metadata": {},
   "source": [
    "### Model prediction\n"
   ]
  },
  {
   "cell_type": "markdown",
   "id": "761ac472",
   "metadata": {},
   "source": [
    "* Predict the price of each land with the area, crime rate and distance from the data set."
   ]
  },
  {
   "cell_type": "code",
   "execution_count": 78,
   "id": "b3148a0e",
   "metadata": {},
   "outputs": [],
   "source": [
    "# Test data prediction\n",
    "y_pred_test = lin_regressor.predict(X_test)\n",
    "\n",
    "# Training data prediction\n",
    "y_pred_train = lin_regressor.predict(X_train)"
   ]
  },
  {
   "cell_type": "markdown",
   "id": "0a3aa1e5",
   "metadata": {},
   "source": [
    "#### Testing data result"
   ]
  },
  {
   "cell_type": "code",
   "execution_count": 79,
   "id": "fde9054b",
   "metadata": {},
   "outputs": [
    {
     "name": "stdout",
     "output_type": "stream",
     "text": [
      "Original price of land\n",
      "\n",
      " [5.4 7.  7.3 6.4 6.8 4.8 6.6]\n"
     ]
    }
   ],
   "source": [
    "print('Original price of land\\n\\n',Y_test)"
   ]
  },
  {
   "cell_type": "code",
   "execution_count": 80,
   "id": "9c91614e",
   "metadata": {},
   "outputs": [
    {
     "name": "stdout",
     "output_type": "stream",
     "text": [
      "Price predicted by the model on test data\n",
      " [6.17 6.47 7.71 6.17 6.96 4.83 6.38]\n"
     ]
    }
   ],
   "source": [
    "print('Price predicted by the model on test data\\n', y_pred_test.round(2))"
   ]
  },
  {
   "cell_type": "markdown",
   "id": "1061f2ff",
   "metadata": {},
   "source": [
    "* The result above shows that our model is predicting a little higher than the original prices of the land. Let us take a look at the trained data.\n"
   ]
  },
  {
   "cell_type": "markdown",
   "id": "cd7e1da7",
   "metadata": {},
   "source": [
    "#### Training data result"
   ]
  },
  {
   "cell_type": "code",
   "execution_count": 81,
   "id": "8a175a3d",
   "metadata": {},
   "outputs": [
    {
     "name": "stdout",
     "output_type": "stream",
     "text": [
      "Original prices on trained data [7.  6.9 5.6 7.  7.3 7.4 7.  6.4 6.5 4.8]\n"
     ]
    }
   ],
   "source": [
    "print('Original prices on trained data',Y_train)"
   ]
  },
  {
   "cell_type": "code",
   "execution_count": 82,
   "id": "b7ea1428",
   "metadata": {},
   "outputs": [
    {
     "name": "stdout",
     "output_type": "stream",
     "text": [
      "predicted prices on trained data [6.84 7.06 5.9  6.53 7.48 7.57 6.78 6.31 6.52 4.9 ]\n"
     ]
    }
   ],
   "source": [
    "print('predicted prices on trained data',y_pred_train.round(2))"
   ]
  },
  {
   "cell_type": "markdown",
   "id": "0f9cf864",
   "metadata": {},
   "source": [
    "* The model performed better on the training data compare to the testing data in the sense that, the differences between the predicted prices are smaller compare to that of the test data. This would be easier to see from the value of R square of the training and test data respectively."
   ]
  },
  {
   "cell_type": "markdown",
   "id": "a597ff66",
   "metadata": {},
   "source": [
    "Let us see the value of R_Squared with all variables inclusive."
   ]
  },
  {
   "cell_type": "code",
   "execution_count": 83,
   "id": "e9a6e265",
   "metadata": {},
   "outputs": [],
   "source": [
    "# Import r sqaured library and create an object of it thus;\n",
    "from sklearn.metrics import r2_score"
   ]
  },
  {
   "cell_type": "markdown",
   "id": "783e163c",
   "metadata": {},
   "source": [
    "#### R_Sqaured value for the training datat"
   ]
  },
  {
   "cell_type": "code",
   "execution_count": 84,
   "id": "47b86302",
   "metadata": {},
   "outputs": [
    {
     "data": {
      "text/plain": [
       "0.92"
      ]
     },
     "execution_count": 84,
     "metadata": {},
     "output_type": "execute_result"
    }
   ],
   "source": [
    "# R_Squared value for the trained and predicted trained values\n",
    "r_square_train = r2_score(Y_train,y_pred_train)\n",
    "r_square_train.round(2)"
   ]
  },
  {
   "cell_type": "markdown",
   "id": "afedc1b8",
   "metadata": {},
   "source": [
    "* The model is able to explain 92% variation in the training data set. However, we can not rely on this result as we must see how efficient it is on the test data."
   ]
  },
  {
   "cell_type": "markdown",
   "id": "7b9dc4ef",
   "metadata": {},
   "source": [
    "#### R_Squared value for the test data."
   ]
  },
  {
   "cell_type": "code",
   "execution_count": 85,
   "id": "27db513b",
   "metadata": {},
   "outputs": [
    {
     "data": {
      "text/plain": [
       "0.76"
      ]
     },
     "execution_count": 85,
     "metadata": {},
     "output_type": "execute_result"
    }
   ],
   "source": [
    "# R_Squared value for the actual and predicted value\n",
    "r_square_test = r2_score(Y_test,y_pred_test)\n",
    "r_square_test.round(2)"
   ]
  },
  {
   "cell_type": "markdown",
   "id": "c8032915",
   "metadata": {},
   "source": [
    "• From the value of r squared, the model is able to explain only 76% variation in the test data set. However we can not rely on this for future predicitions because it has overfitted the training data.\n"
   ]
  },
  {
   "cell_type": "markdown",
   "id": "fe115650",
   "metadata": {},
   "source": [
    "#### Testing for multi collinearity"
   ]
  },
  {
   "cell_type": "markdown",
   "id": "f5a66948",
   "metadata": {},
   "source": [
    "• Let us exclude \"crime rate \", column to see the new values of r squared on train and test data respectively.•\n"
   ]
  },
  {
   "cell_type": "code",
   "execution_count": 86,
   "id": "eaddc259",
   "metadata": {},
   "outputs": [],
   "source": [
    "X = dataset.iloc[0:,0:2].values # Read only the first two columns\n",
    "Y = dataset.iloc[0:, 3].values # All rows and the last column(index number 3 only)."
   ]
  },
  {
   "cell_type": "code",
   "execution_count": 87,
   "id": "f053dd12",
   "metadata": {},
   "outputs": [
    {
     "name": "stdout",
     "output_type": "stream",
     "text": [
      "New values of X (Area and Distance)\n",
      "\n",
      " [[ 89   4]\n",
      " [ 66   1]\n",
      " [ 78   3]\n",
      " [111   6]\n",
      " [ 44   1]\n",
      " [ 77   3]\n",
      " [ 80   3]\n",
      " [ 66   2]\n",
      " [109   5]\n",
      " [ 75   3]\n",
      " [ 85   2]\n",
      " [110   6]\n",
      " [ 45   1]\n",
      " [ 79   1]\n",
      " [ 90   4]\n",
      " [ 76   2]\n",
      " [ 81   3]]\n"
     ]
    }
   ],
   "source": [
    "print('New values of X (Area and Distance)\\n\\n', X)"
   ]
  },
  {
   "cell_type": "markdown",
   "id": "f763ef96",
   "metadata": {},
   "source": [
    "##### Split the data set into training and testing data"
   ]
  },
  {
   "cell_type": "code",
   "execution_count": 88,
   "id": "8c25cf49",
   "metadata": {},
   "outputs": [],
   "source": [
    "X_train,X_test, Y_train, Y_test = train_test_split(X,Y, test_size=0.4, random_state=0)"
   ]
  },
  {
   "cell_type": "code",
   "execution_count": 89,
   "id": "eaec72a8",
   "metadata": {},
   "outputs": [
    {
     "data": {
      "text/html": [
       "<style>#sk-container-id-5 {color: black;}#sk-container-id-5 pre{padding: 0;}#sk-container-id-5 div.sk-toggleable {background-color: white;}#sk-container-id-5 label.sk-toggleable__label {cursor: pointer;display: block;width: 100%;margin-bottom: 0;padding: 0.3em;box-sizing: border-box;text-align: center;}#sk-container-id-5 label.sk-toggleable__label-arrow:before {content: \"▸\";float: left;margin-right: 0.25em;color: #696969;}#sk-container-id-5 label.sk-toggleable__label-arrow:hover:before {color: black;}#sk-container-id-5 div.sk-estimator:hover label.sk-toggleable__label-arrow:before {color: black;}#sk-container-id-5 div.sk-toggleable__content {max-height: 0;max-width: 0;overflow: hidden;text-align: left;background-color: #f0f8ff;}#sk-container-id-5 div.sk-toggleable__content pre {margin: 0.2em;color: black;border-radius: 0.25em;background-color: #f0f8ff;}#sk-container-id-5 input.sk-toggleable__control:checked~div.sk-toggleable__content {max-height: 200px;max-width: 100%;overflow: auto;}#sk-container-id-5 input.sk-toggleable__control:checked~label.sk-toggleable__label-arrow:before {content: \"▾\";}#sk-container-id-5 div.sk-estimator input.sk-toggleable__control:checked~label.sk-toggleable__label {background-color: #d4ebff;}#sk-container-id-5 div.sk-label input.sk-toggleable__control:checked~label.sk-toggleable__label {background-color: #d4ebff;}#sk-container-id-5 input.sk-hidden--visually {border: 0;clip: rect(1px 1px 1px 1px);clip: rect(1px, 1px, 1px, 1px);height: 1px;margin: -1px;overflow: hidden;padding: 0;position: absolute;width: 1px;}#sk-container-id-5 div.sk-estimator {font-family: monospace;background-color: #f0f8ff;border: 1px dotted black;border-radius: 0.25em;box-sizing: border-box;margin-bottom: 0.5em;}#sk-container-id-5 div.sk-estimator:hover {background-color: #d4ebff;}#sk-container-id-5 div.sk-parallel-item::after {content: \"\";width: 100%;border-bottom: 1px solid gray;flex-grow: 1;}#sk-container-id-5 div.sk-label:hover label.sk-toggleable__label {background-color: #d4ebff;}#sk-container-id-5 div.sk-serial::before {content: \"\";position: absolute;border-left: 1px solid gray;box-sizing: border-box;top: 0;bottom: 0;left: 50%;z-index: 0;}#sk-container-id-5 div.sk-serial {display: flex;flex-direction: column;align-items: center;background-color: white;padding-right: 0.2em;padding-left: 0.2em;position: relative;}#sk-container-id-5 div.sk-item {position: relative;z-index: 1;}#sk-container-id-5 div.sk-parallel {display: flex;align-items: stretch;justify-content: center;background-color: white;position: relative;}#sk-container-id-5 div.sk-item::before, #sk-container-id-5 div.sk-parallel-item::before {content: \"\";position: absolute;border-left: 1px solid gray;box-sizing: border-box;top: 0;bottom: 0;left: 50%;z-index: -1;}#sk-container-id-5 div.sk-parallel-item {display: flex;flex-direction: column;z-index: 1;position: relative;background-color: white;}#sk-container-id-5 div.sk-parallel-item:first-child::after {align-self: flex-end;width: 50%;}#sk-container-id-5 div.sk-parallel-item:last-child::after {align-self: flex-start;width: 50%;}#sk-container-id-5 div.sk-parallel-item:only-child::after {width: 0;}#sk-container-id-5 div.sk-dashed-wrapped {border: 1px dashed gray;margin: 0 0.4em 0.5em 0.4em;box-sizing: border-box;padding-bottom: 0.4em;background-color: white;}#sk-container-id-5 div.sk-label label {font-family: monospace;font-weight: bold;display: inline-block;line-height: 1.2em;}#sk-container-id-5 div.sk-label-container {text-align: center;}#sk-container-id-5 div.sk-container {/* jupyter's `normalize.less` sets `[hidden] { display: none; }` but bootstrap.min.css set `[hidden] { display: none !important; }` so we also need the `!important` here to be able to override the default hidden behavior on the sphinx rendered scikit-learn.org. See: https://github.com/scikit-learn/scikit-learn/issues/21755 */display: inline-block !important;position: relative;}#sk-container-id-5 div.sk-text-repr-fallback {display: none;}</style><div id=\"sk-container-id-5\" class=\"sk-top-container\"><div class=\"sk-text-repr-fallback\"><pre>LinearRegression()</pre><b>In a Jupyter environment, please rerun this cell to show the HTML representation or trust the notebook. <br />On GitHub, the HTML representation is unable to render, please try loading this page with nbviewer.org.</b></div><div class=\"sk-container\" hidden><div class=\"sk-item\"><div class=\"sk-estimator sk-toggleable\"><input class=\"sk-toggleable__control sk-hidden--visually\" id=\"sk-estimator-id-5\" type=\"checkbox\" checked><label for=\"sk-estimator-id-5\" class=\"sk-toggleable__label sk-toggleable__label-arrow\">LinearRegression</label><div class=\"sk-toggleable__content\"><pre>LinearRegression()</pre></div></div></div></div></div>"
      ],
      "text/plain": [
       "LinearRegression()"
      ]
     },
     "execution_count": 89,
     "metadata": {},
     "output_type": "execute_result"
    }
   ],
   "source": [
    "# Instantiate regression class\n",
    "lin_regressor = LinearRegression()\n",
    "lin_regressor.fit(X_train, Y_train)"
   ]
  },
  {
   "cell_type": "markdown",
   "id": "489d27c8",
   "metadata": {},
   "source": [
    "### Now predict the model again with both training and testing data respectively\n"
   ]
  },
  {
   "cell_type": "code",
   "execution_count": 90,
   "id": "8e8910bd",
   "metadata": {},
   "outputs": [],
   "source": [
    "y_pred_test = lin_regressor.predict(X_test)\n",
    "y_pred_train = lin_regressor.predict(X_train)"
   ]
  },
  {
   "cell_type": "markdown",
   "id": "31ccd712",
   "metadata": {},
   "source": [
    "#### New R Squared values excluding \"crime rate column\"."
   ]
  },
  {
   "cell_type": "code",
   "execution_count": 91,
   "id": "43e06fd0",
   "metadata": {},
   "outputs": [
    {
     "data": {
      "text/plain": [
       "0.92"
      ]
     },
     "execution_count": 91,
     "metadata": {},
     "output_type": "execute_result"
    }
   ],
   "source": [
    "# R_Squared value for the trained and predicted trained values\n",
    "r_square_test = r2_score(Y_train,y_pred_train)\n",
    "r_square_test.round(2)"
   ]
  },
  {
   "cell_type": "code",
   "execution_count": 92,
   "id": "b7505c02",
   "metadata": {},
   "outputs": [
    {
     "data": {
      "text/plain": [
       "0.76"
      ]
     },
     "execution_count": 92,
     "metadata": {},
     "output_type": "execute_result"
    }
   ],
   "source": [
    "# R_Squared value for the actual and predicted value\n",
    "r_square_test = r2_score(Y_test,y_pred_test)\n",
    "r_square_test.round(2)"
   ]
  },
  {
   "cell_type": "markdown",
   "id": "9fe28300",
   "metadata": {},
   "source": [
    " • It is obvious that the exlusion of crime rate from the dataset did not make any difference because the R squared value is same as when 'crime rate' column was used. This means that Distance and Crime rate columns, are highly correlated with each other.\n",
    " The two variables do not form a good relationship with price of the land ( The price of the land is independent of the crime rate in that neigbourhood ).\n",
    " \n",
    " From our simple linear regression on only the area of the land, we saw how the r squared values for both datasets had a close range (87% on the trained data and 81% on the test data).\n",
    " Let us demonstrate this by building a template on the three variables for easier understanding."
   ]
  },
  {
   "cell_type": "markdown",
   "id": "10bb9009",
   "metadata": {},
   "source": [
    "#### Now, let us build a template for any three variables.\n"
   ]
  },
  {
   "cell_type": "code",
   "execution_count": 93,
   "id": "60791138",
   "metadata": {},
   "outputs": [],
   "source": [
    "# import the dataset\n",
    "\n",
    "X = dataset.iloc[0:,0:3].values\n",
    "Y = dataset.iloc[0:, 3].values"
   ]
  },
  {
   "cell_type": "code",
   "execution_count": 94,
   "id": "61775407",
   "metadata": {},
   "outputs": [],
   "source": [
    "# Split the data into train and test data\n",
    "X_train,X_test, Y_train, Y_test = train_test_split(X,Y, test_size=0.4, random_state=0)\n",
    "\n",
    "\n",
    "# Fit the model\n",
    "lin_regressor = LinearRegression()\n",
    "lin_regressor.fit(X_train, Y_train)\n",
    "\n",
    "\n",
    "# Model Prediction\n",
    "\n",
    "# Test data prediction\n",
    "y_pred_test = lin_regressor.predict(X_test)\n"
   ]
  },
  {
   "cell_type": "markdown",
   "id": "e1f39c0e",
   "metadata": {},
   "source": [
    "#### R SQUARED VALUES"
   ]
  },
  {
   "cell_type": "code",
   "execution_count": 95,
   "id": "eeb4b518",
   "metadata": {},
   "outputs": [
    {
     "data": {
      "text/plain": [
       "0.92"
      ]
     },
     "execution_count": 95,
     "metadata": {},
     "output_type": "execute_result"
    }
   ],
   "source": [
    "# R_SQUARED VALUE FOR TRAINING DATA\n",
    "r_square_train = r2_score(Y_train,y_pred_train)\n",
    "r_square_train.round(2)"
   ]
  },
  {
   "cell_type": "code",
   "execution_count": 96,
   "id": "3e3ba250",
   "metadata": {},
   "outputs": [
    {
     "data": {
      "text/plain": [
       "0.76"
      ]
     },
     "execution_count": 96,
     "metadata": {},
     "output_type": "execute_result"
    }
   ],
   "source": [
    "# R_SQUARED VALUE FOR TEST DATA\n",
    "r_square_test = r2_score(Y_test,y_pred_test)\n",
    "r_square_test.round(2)"
   ]
  },
  {
   "cell_type": "markdown",
   "id": "ca0999ad",
   "metadata": {},
   "source": [
    "The model did performed excellently on the training data but not on the test data."
   ]
  },
  {
   "cell_type": "markdown",
   "id": "db849a58",
   "metadata": {},
   "source": [
    "#### Now assume any value for Area, Distance and Crime rate to predict price."
   ]
  },
  {
   "cell_type": "code",
   "execution_count": 97,
   "id": "3ea8b123",
   "metadata": {},
   "outputs": [
    {
     "name": "stdout",
     "output_type": "stream",
     "text": [
      "[1.94]\n"
     ]
    }
   ],
   "source": [
    "transformed_values = np.array([[96,23,3.55]])\n",
    "pred_price = lin_regressor.predict(transformed_values)\n",
    "print(pred_price.round(2))"
   ]
  },
  {
   "cell_type": "markdown",
   "id": "0e3ae419",
   "metadata": {},
   "source": [
    "* Now let us consider same area of land at the city centre with more than twice the crime rate."
   ]
  },
  {
   "cell_type": "code",
   "execution_count": 98,
   "id": "0c713e4f",
   "metadata": {},
   "outputs": [
    {
     "name": "stdout",
     "output_type": "stream",
     "text": [
      "[8.54]\n"
     ]
    }
   ],
   "source": [
    "transformed_values = np.array([[96,0,9]])\n",
    "pred_price = lin_regressor.predict(transformed_values)\n",
    "print(pred_price.round(2))"
   ]
  },
  {
   "cell_type": "markdown",
   "id": "ca6538ec",
   "metadata": {},
   "source": [
    "* Considering the values inputed, the first has shown that the worth of a house on same size of land and 23 miles away from the city centre should be 1.94 million dollars. On the other hand, the second values inputed in the template says; same size of land at the city centre ( 0 distance value), with crime rate(9) more than twice that of an area of about 23 miles away from the city centre, is highly more valuable, attractive to buyers. Its demand far more than one which is far away. But in reality, is not absolutely true that an enviroment with high crime would not have negative effect on demand of houses. However, remember that crimes are of different phases. The exact kind of crime was not disclose in this case."
   ]
  },
  {
   "cell_type": "markdown",
   "id": "3487d0ee",
   "metadata": {},
   "source": [
    "#### Now let us see the value of a house on same size of land with no crime or crime rate at its bearest minimum in same location of the city."
   ]
  },
  {
   "cell_type": "markdown",
   "id": "5307959c",
   "metadata": {},
   "source": [
    "• Now, let us assume values of zero for other columns except the area of the land and see the price of the house."
   ]
  },
  {
   "cell_type": "code",
   "execution_count": 99,
   "id": "7e84bd0b",
   "metadata": {},
   "outputs": [
    {
     "name": "stdout",
     "output_type": "stream",
     "text": [
      "[8.14]\n"
     ]
    }
   ],
   "source": [
    "transformed_values = np.array([[96,0,0]])\n",
    "pred_price = lin_regressor.predict(transformed_values)\n",
    "print(pred_price.round(2))"
   ]
  },
  {
   "cell_type": "markdown",
   "id": "63e41b55",
   "metadata": {},
   "source": [
    "### Conclusion"
   ]
  },
  {
   "cell_type": "markdown",
   "id": "551af9d5",
   "metadata": {},
   "source": [
    "* We have seen how much emphasis should be placed on the area or size of the land than other factors in considering the prices of a house in this region."
   ]
  },
  {
   "cell_type": "markdown",
   "id": "044e13ec",
   "metadata": {},
   "source": [
    "### LET US CONSIDER A DATASET WITH A CATEGORICAL VARIABLE"
   ]
  },
  {
   "cell_type": "code",
   "execution_count": 100,
   "id": "a2a3defa",
   "metadata": {},
   "outputs": [
    {
     "name": "stdout",
     "output_type": "stream",
     "text": [
      "Data set preview\n",
      "\n",
      "     Area  Distance  Crime Rate  Price        City\n",
      "0     89         4        3.84    7.0      Zurich\n",
      "1     66         1        3.19    5.4      Jeneva\n",
      "2     78         3        3.78    6.6  Interlaken\n",
      "3    111         6        3.89    7.4      Jeneva\n",
      "4     44         1        3.57    4.8      Zurich\n",
      "5     77         3        3.57    6.4      Zurich\n",
      "6     80         3        3.03    7.0  Interlaken\n",
      "7     66         2        3.51    5.6      Jeneva\n",
      "8    109         5        3.54    7.3      Zurich\n",
      "9     75         3        3.25    6.4      Zurich\n",
      "10    85         2        3.31    6.9  Interlaken\n",
      "11   110         6        3.20    7.3  Interlaken\n",
      "12    45         1        3.70    4.8      Jeneva\n",
      "13    79         1        3.21    6.8  Interlaken\n",
      "14    90         4        3.87    7.0      Jeneva\n",
      "15    76         2        3.56    6.5      Jeneva\n",
      "16    81         3        3.21    7.0      Zurich\n"
     ]
    }
   ],
   "source": [
    "# Read the dataset\n",
    "# import the dataset\n",
    "dataset = pd.read_csv('/Users/lambertagunbiade/Desktop/SUPERVISED MACHINE LEARNING /landprice2.csv')\n",
    "print('Data set preview\\n\\n', dataset)"
   ]
  },
  {
   "cell_type": "markdown",
   "id": "4fc74307",
   "metadata": {},
   "source": [
    "#### Create dummy variable for the city column and preview"
   ]
  },
  {
   "cell_type": "code",
   "execution_count": 101,
   "id": "2640c302",
   "metadata": {},
   "outputs": [
    {
     "data": {
      "text/html": [
       "<div>\n",
       "<style scoped>\n",
       "    .dataframe tbody tr th:only-of-type {\n",
       "        vertical-align: middle;\n",
       "    }\n",
       "\n",
       "    .dataframe tbody tr th {\n",
       "        vertical-align: top;\n",
       "    }\n",
       "\n",
       "    .dataframe thead th {\n",
       "        text-align: right;\n",
       "    }\n",
       "</style>\n",
       "<table border=\"1\" class=\"dataframe\">\n",
       "  <thead>\n",
       "    <tr style=\"text-align: right;\">\n",
       "      <th></th>\n",
       "      <th>Interlaken</th>\n",
       "      <th>Jeneva</th>\n",
       "      <th>Zurich</th>\n",
       "    </tr>\n",
       "  </thead>\n",
       "  <tbody>\n",
       "    <tr>\n",
       "      <th>0</th>\n",
       "      <td>0</td>\n",
       "      <td>0</td>\n",
       "      <td>1</td>\n",
       "    </tr>\n",
       "    <tr>\n",
       "      <th>1</th>\n",
       "      <td>0</td>\n",
       "      <td>1</td>\n",
       "      <td>0</td>\n",
       "    </tr>\n",
       "    <tr>\n",
       "      <th>2</th>\n",
       "      <td>1</td>\n",
       "      <td>0</td>\n",
       "      <td>0</td>\n",
       "    </tr>\n",
       "    <tr>\n",
       "      <th>3</th>\n",
       "      <td>0</td>\n",
       "      <td>1</td>\n",
       "      <td>0</td>\n",
       "    </tr>\n",
       "    <tr>\n",
       "      <th>4</th>\n",
       "      <td>0</td>\n",
       "      <td>0</td>\n",
       "      <td>1</td>\n",
       "    </tr>\n",
       "    <tr>\n",
       "      <th>5</th>\n",
       "      <td>0</td>\n",
       "      <td>0</td>\n",
       "      <td>1</td>\n",
       "    </tr>\n",
       "    <tr>\n",
       "      <th>6</th>\n",
       "      <td>1</td>\n",
       "      <td>0</td>\n",
       "      <td>0</td>\n",
       "    </tr>\n",
       "    <tr>\n",
       "      <th>7</th>\n",
       "      <td>0</td>\n",
       "      <td>1</td>\n",
       "      <td>0</td>\n",
       "    </tr>\n",
       "    <tr>\n",
       "      <th>8</th>\n",
       "      <td>0</td>\n",
       "      <td>0</td>\n",
       "      <td>1</td>\n",
       "    </tr>\n",
       "    <tr>\n",
       "      <th>9</th>\n",
       "      <td>0</td>\n",
       "      <td>0</td>\n",
       "      <td>1</td>\n",
       "    </tr>\n",
       "    <tr>\n",
       "      <th>10</th>\n",
       "      <td>1</td>\n",
       "      <td>0</td>\n",
       "      <td>0</td>\n",
       "    </tr>\n",
       "    <tr>\n",
       "      <th>11</th>\n",
       "      <td>1</td>\n",
       "      <td>0</td>\n",
       "      <td>0</td>\n",
       "    </tr>\n",
       "    <tr>\n",
       "      <th>12</th>\n",
       "      <td>0</td>\n",
       "      <td>1</td>\n",
       "      <td>0</td>\n",
       "    </tr>\n",
       "    <tr>\n",
       "      <th>13</th>\n",
       "      <td>1</td>\n",
       "      <td>0</td>\n",
       "      <td>0</td>\n",
       "    </tr>\n",
       "    <tr>\n",
       "      <th>14</th>\n",
       "      <td>0</td>\n",
       "      <td>1</td>\n",
       "      <td>0</td>\n",
       "    </tr>\n",
       "    <tr>\n",
       "      <th>15</th>\n",
       "      <td>0</td>\n",
       "      <td>1</td>\n",
       "      <td>0</td>\n",
       "    </tr>\n",
       "    <tr>\n",
       "      <th>16</th>\n",
       "      <td>0</td>\n",
       "      <td>0</td>\n",
       "      <td>1</td>\n",
       "    </tr>\n",
       "  </tbody>\n",
       "</table>\n",
       "</div>"
      ],
      "text/plain": [
       "    Interlaken  Jeneva  Zurich\n",
       "0            0       0       1\n",
       "1            0       1       0\n",
       "2            1       0       0\n",
       "3            0       1       0\n",
       "4            0       0       1\n",
       "5            0       0       1\n",
       "6            1       0       0\n",
       "7            0       1       0\n",
       "8            0       0       1\n",
       "9            0       0       1\n",
       "10           1       0       0\n",
       "11           1       0       0\n",
       "12           0       1       0\n",
       "13           1       0       0\n",
       "14           0       1       0\n",
       "15           0       1       0\n",
       "16           0       0       1"
      ]
     },
     "execution_count": 101,
     "metadata": {},
     "output_type": "execute_result"
    }
   ],
   "source": [
    "dummy = pd.get_dummies(dataset.City)\n",
    "dummy"
   ]
  },
  {
   "cell_type": "markdown",
   "id": "83b532f0",
   "metadata": {},
   "source": [
    " The dataframe shows three categories of data. However, we only need (n-1) number of dummy variables.\n",
    "Let us select the first two columns with 'iloc' function."
   ]
  },
  {
   "cell_type": "code",
   "execution_count": 102,
   "id": "02547aed",
   "metadata": {},
   "outputs": [
    {
     "data": {
      "text/html": [
       "<div>\n",
       "<style scoped>\n",
       "    .dataframe tbody tr th:only-of-type {\n",
       "        vertical-align: middle;\n",
       "    }\n",
       "\n",
       "    .dataframe tbody tr th {\n",
       "        vertical-align: top;\n",
       "    }\n",
       "\n",
       "    .dataframe thead th {\n",
       "        text-align: right;\n",
       "    }\n",
       "</style>\n",
       "<table border=\"1\" class=\"dataframe\">\n",
       "  <thead>\n",
       "    <tr style=\"text-align: right;\">\n",
       "      <th></th>\n",
       "      <th>Interlaken</th>\n",
       "      <th>Jeneva</th>\n",
       "    </tr>\n",
       "  </thead>\n",
       "  <tbody>\n",
       "    <tr>\n",
       "      <th>0</th>\n",
       "      <td>0</td>\n",
       "      <td>0</td>\n",
       "    </tr>\n",
       "    <tr>\n",
       "      <th>1</th>\n",
       "      <td>0</td>\n",
       "      <td>1</td>\n",
       "    </tr>\n",
       "    <tr>\n",
       "      <th>2</th>\n",
       "      <td>1</td>\n",
       "      <td>0</td>\n",
       "    </tr>\n",
       "    <tr>\n",
       "      <th>3</th>\n",
       "      <td>0</td>\n",
       "      <td>1</td>\n",
       "    </tr>\n",
       "    <tr>\n",
       "      <th>4</th>\n",
       "      <td>0</td>\n",
       "      <td>0</td>\n",
       "    </tr>\n",
       "    <tr>\n",
       "      <th>5</th>\n",
       "      <td>0</td>\n",
       "      <td>0</td>\n",
       "    </tr>\n",
       "    <tr>\n",
       "      <th>6</th>\n",
       "      <td>1</td>\n",
       "      <td>0</td>\n",
       "    </tr>\n",
       "    <tr>\n",
       "      <th>7</th>\n",
       "      <td>0</td>\n",
       "      <td>1</td>\n",
       "    </tr>\n",
       "    <tr>\n",
       "      <th>8</th>\n",
       "      <td>0</td>\n",
       "      <td>0</td>\n",
       "    </tr>\n",
       "    <tr>\n",
       "      <th>9</th>\n",
       "      <td>0</td>\n",
       "      <td>0</td>\n",
       "    </tr>\n",
       "    <tr>\n",
       "      <th>10</th>\n",
       "      <td>1</td>\n",
       "      <td>0</td>\n",
       "    </tr>\n",
       "    <tr>\n",
       "      <th>11</th>\n",
       "      <td>1</td>\n",
       "      <td>0</td>\n",
       "    </tr>\n",
       "    <tr>\n",
       "      <th>12</th>\n",
       "      <td>0</td>\n",
       "      <td>1</td>\n",
       "    </tr>\n",
       "    <tr>\n",
       "      <th>13</th>\n",
       "      <td>1</td>\n",
       "      <td>0</td>\n",
       "    </tr>\n",
       "    <tr>\n",
       "      <th>14</th>\n",
       "      <td>0</td>\n",
       "      <td>1</td>\n",
       "    </tr>\n",
       "    <tr>\n",
       "      <th>15</th>\n",
       "      <td>0</td>\n",
       "      <td>1</td>\n",
       "    </tr>\n",
       "    <tr>\n",
       "      <th>16</th>\n",
       "      <td>0</td>\n",
       "      <td>0</td>\n",
       "    </tr>\n",
       "  </tbody>\n",
       "</table>\n",
       "</div>"
      ],
      "text/plain": [
       "    Interlaken  Jeneva\n",
       "0            0       0\n",
       "1            0       1\n",
       "2            1       0\n",
       "3            0       1\n",
       "4            0       0\n",
       "5            0       0\n",
       "6            1       0\n",
       "7            0       1\n",
       "8            0       0\n",
       "9            0       0\n",
       "10           1       0\n",
       "11           1       0\n",
       "12           0       1\n",
       "13           1       0\n",
       "14           0       1\n",
       "15           0       1\n",
       "16           0       0"
      ]
     },
     "execution_count": 102,
     "metadata": {},
     "output_type": "execute_result"
    }
   ],
   "source": [
    "dummy = pd.get_dummies(dataset.City).iloc[0: , 0:2]\n",
    "dummy"
   ]
  },
  {
   "cell_type": "markdown",
   "id": "4d3e9a96",
   "metadata": {},
   "source": [
    "• Explanation: We can clearly see that, if the city is neither of the two shown in the dataframe above, then it must be Zurich. Now we have only two dummy variables.\n",
    "Next, we will concatenate the dummy variables to our dataset dataframe as below."
   ]
  },
  {
   "cell_type": "markdown",
   "id": "e4522016",
   "metadata": {},
   "source": [
    "#### Concatenate both dataframes."
   ]
  },
  {
   "cell_type": "code",
   "execution_count": 103,
   "id": "fea7b850",
   "metadata": {},
   "outputs": [
    {
     "data": {
      "text/html": [
       "<div>\n",
       "<style scoped>\n",
       "    .dataframe tbody tr th:only-of-type {\n",
       "        vertical-align: middle;\n",
       "    }\n",
       "\n",
       "    .dataframe tbody tr th {\n",
       "        vertical-align: top;\n",
       "    }\n",
       "\n",
       "    .dataframe thead th {\n",
       "        text-align: right;\n",
       "    }\n",
       "</style>\n",
       "<table border=\"1\" class=\"dataframe\">\n",
       "  <thead>\n",
       "    <tr style=\"text-align: right;\">\n",
       "      <th></th>\n",
       "      <th>Area</th>\n",
       "      <th>Distance</th>\n",
       "      <th>Crime Rate</th>\n",
       "      <th>Price</th>\n",
       "      <th>City</th>\n",
       "      <th>Interlaken</th>\n",
       "      <th>Jeneva</th>\n",
       "    </tr>\n",
       "  </thead>\n",
       "  <tbody>\n",
       "    <tr>\n",
       "      <th>0</th>\n",
       "      <td>89</td>\n",
       "      <td>4</td>\n",
       "      <td>3.84</td>\n",
       "      <td>7.0</td>\n",
       "      <td>Zurich</td>\n",
       "      <td>0</td>\n",
       "      <td>0</td>\n",
       "    </tr>\n",
       "    <tr>\n",
       "      <th>1</th>\n",
       "      <td>66</td>\n",
       "      <td>1</td>\n",
       "      <td>3.19</td>\n",
       "      <td>5.4</td>\n",
       "      <td>Jeneva</td>\n",
       "      <td>0</td>\n",
       "      <td>1</td>\n",
       "    </tr>\n",
       "    <tr>\n",
       "      <th>2</th>\n",
       "      <td>78</td>\n",
       "      <td>3</td>\n",
       "      <td>3.78</td>\n",
       "      <td>6.6</td>\n",
       "      <td>Interlaken</td>\n",
       "      <td>1</td>\n",
       "      <td>0</td>\n",
       "    </tr>\n",
       "    <tr>\n",
       "      <th>3</th>\n",
       "      <td>111</td>\n",
       "      <td>6</td>\n",
       "      <td>3.89</td>\n",
       "      <td>7.4</td>\n",
       "      <td>Jeneva</td>\n",
       "      <td>0</td>\n",
       "      <td>1</td>\n",
       "    </tr>\n",
       "    <tr>\n",
       "      <th>4</th>\n",
       "      <td>44</td>\n",
       "      <td>1</td>\n",
       "      <td>3.57</td>\n",
       "      <td>4.8</td>\n",
       "      <td>Zurich</td>\n",
       "      <td>0</td>\n",
       "      <td>0</td>\n",
       "    </tr>\n",
       "    <tr>\n",
       "      <th>5</th>\n",
       "      <td>77</td>\n",
       "      <td>3</td>\n",
       "      <td>3.57</td>\n",
       "      <td>6.4</td>\n",
       "      <td>Zurich</td>\n",
       "      <td>0</td>\n",
       "      <td>0</td>\n",
       "    </tr>\n",
       "    <tr>\n",
       "      <th>6</th>\n",
       "      <td>80</td>\n",
       "      <td>3</td>\n",
       "      <td>3.03</td>\n",
       "      <td>7.0</td>\n",
       "      <td>Interlaken</td>\n",
       "      <td>1</td>\n",
       "      <td>0</td>\n",
       "    </tr>\n",
       "    <tr>\n",
       "      <th>7</th>\n",
       "      <td>66</td>\n",
       "      <td>2</td>\n",
       "      <td>3.51</td>\n",
       "      <td>5.6</td>\n",
       "      <td>Jeneva</td>\n",
       "      <td>0</td>\n",
       "      <td>1</td>\n",
       "    </tr>\n",
       "    <tr>\n",
       "      <th>8</th>\n",
       "      <td>109</td>\n",
       "      <td>5</td>\n",
       "      <td>3.54</td>\n",
       "      <td>7.3</td>\n",
       "      <td>Zurich</td>\n",
       "      <td>0</td>\n",
       "      <td>0</td>\n",
       "    </tr>\n",
       "    <tr>\n",
       "      <th>9</th>\n",
       "      <td>75</td>\n",
       "      <td>3</td>\n",
       "      <td>3.25</td>\n",
       "      <td>6.4</td>\n",
       "      <td>Zurich</td>\n",
       "      <td>0</td>\n",
       "      <td>0</td>\n",
       "    </tr>\n",
       "    <tr>\n",
       "      <th>10</th>\n",
       "      <td>85</td>\n",
       "      <td>2</td>\n",
       "      <td>3.31</td>\n",
       "      <td>6.9</td>\n",
       "      <td>Interlaken</td>\n",
       "      <td>1</td>\n",
       "      <td>0</td>\n",
       "    </tr>\n",
       "    <tr>\n",
       "      <th>11</th>\n",
       "      <td>110</td>\n",
       "      <td>6</td>\n",
       "      <td>3.20</td>\n",
       "      <td>7.3</td>\n",
       "      <td>Interlaken</td>\n",
       "      <td>1</td>\n",
       "      <td>0</td>\n",
       "    </tr>\n",
       "    <tr>\n",
       "      <th>12</th>\n",
       "      <td>45</td>\n",
       "      <td>1</td>\n",
       "      <td>3.70</td>\n",
       "      <td>4.8</td>\n",
       "      <td>Jeneva</td>\n",
       "      <td>0</td>\n",
       "      <td>1</td>\n",
       "    </tr>\n",
       "    <tr>\n",
       "      <th>13</th>\n",
       "      <td>79</td>\n",
       "      <td>1</td>\n",
       "      <td>3.21</td>\n",
       "      <td>6.8</td>\n",
       "      <td>Interlaken</td>\n",
       "      <td>1</td>\n",
       "      <td>0</td>\n",
       "    </tr>\n",
       "    <tr>\n",
       "      <th>14</th>\n",
       "      <td>90</td>\n",
       "      <td>4</td>\n",
       "      <td>3.87</td>\n",
       "      <td>7.0</td>\n",
       "      <td>Jeneva</td>\n",
       "      <td>0</td>\n",
       "      <td>1</td>\n",
       "    </tr>\n",
       "    <tr>\n",
       "      <th>15</th>\n",
       "      <td>76</td>\n",
       "      <td>2</td>\n",
       "      <td>3.56</td>\n",
       "      <td>6.5</td>\n",
       "      <td>Jeneva</td>\n",
       "      <td>0</td>\n",
       "      <td>1</td>\n",
       "    </tr>\n",
       "    <tr>\n",
       "      <th>16</th>\n",
       "      <td>81</td>\n",
       "      <td>3</td>\n",
       "      <td>3.21</td>\n",
       "      <td>7.0</td>\n",
       "      <td>Zurich</td>\n",
       "      <td>0</td>\n",
       "      <td>0</td>\n",
       "    </tr>\n",
       "  </tbody>\n",
       "</table>\n",
       "</div>"
      ],
      "text/plain": [
       "    Area  Distance  Crime Rate  Price        City  Interlaken  Jeneva\n",
       "0     89         4        3.84    7.0      Zurich           0       0\n",
       "1     66         1        3.19    5.4      Jeneva           0       1\n",
       "2     78         3        3.78    6.6  Interlaken           1       0\n",
       "3    111         6        3.89    7.4      Jeneva           0       1\n",
       "4     44         1        3.57    4.8      Zurich           0       0\n",
       "5     77         3        3.57    6.4      Zurich           0       0\n",
       "6     80         3        3.03    7.0  Interlaken           1       0\n",
       "7     66         2        3.51    5.6      Jeneva           0       1\n",
       "8    109         5        3.54    7.3      Zurich           0       0\n",
       "9     75         3        3.25    6.4      Zurich           0       0\n",
       "10    85         2        3.31    6.9  Interlaken           1       0\n",
       "11   110         6        3.20    7.3  Interlaken           1       0\n",
       "12    45         1        3.70    4.8      Jeneva           0       1\n",
       "13    79         1        3.21    6.8  Interlaken           1       0\n",
       "14    90         4        3.87    7.0      Jeneva           0       1\n",
       "15    76         2        3.56    6.5      Jeneva           0       1\n",
       "16    81         3        3.21    7.0      Zurich           0       0"
      ]
     },
     "execution_count": 103,
     "metadata": {},
     "output_type": "execute_result"
    }
   ],
   "source": [
    "dataset= pd.concat([dataset,dummy], axis=1)   # axis = 1 because we are joining columns and not row.\n",
    "dataset"
   ]
  },
  {
   "cell_type": "markdown",
   "id": "1eebb95e",
   "metadata": {},
   "source": [
    "• Now we will have to drop the city column since its dummies have been created."
   ]
  },
  {
   "cell_type": "code",
   "execution_count": 104,
   "id": "bddd7339",
   "metadata": {},
   "outputs": [
    {
     "data": {
      "text/html": [
       "<div>\n",
       "<style scoped>\n",
       "    .dataframe tbody tr th:only-of-type {\n",
       "        vertical-align: middle;\n",
       "    }\n",
       "\n",
       "    .dataframe tbody tr th {\n",
       "        vertical-align: top;\n",
       "    }\n",
       "\n",
       "    .dataframe thead th {\n",
       "        text-align: right;\n",
       "    }\n",
       "</style>\n",
       "<table border=\"1\" class=\"dataframe\">\n",
       "  <thead>\n",
       "    <tr style=\"text-align: right;\">\n",
       "      <th></th>\n",
       "      <th>Area</th>\n",
       "      <th>Distance</th>\n",
       "      <th>Crime Rate</th>\n",
       "      <th>Price</th>\n",
       "      <th>Interlaken</th>\n",
       "      <th>Jeneva</th>\n",
       "    </tr>\n",
       "  </thead>\n",
       "  <tbody>\n",
       "    <tr>\n",
       "      <th>0</th>\n",
       "      <td>89</td>\n",
       "      <td>4</td>\n",
       "      <td>3.84</td>\n",
       "      <td>7.0</td>\n",
       "      <td>0</td>\n",
       "      <td>0</td>\n",
       "    </tr>\n",
       "    <tr>\n",
       "      <th>1</th>\n",
       "      <td>66</td>\n",
       "      <td>1</td>\n",
       "      <td>3.19</td>\n",
       "      <td>5.4</td>\n",
       "      <td>0</td>\n",
       "      <td>1</td>\n",
       "    </tr>\n",
       "    <tr>\n",
       "      <th>2</th>\n",
       "      <td>78</td>\n",
       "      <td>3</td>\n",
       "      <td>3.78</td>\n",
       "      <td>6.6</td>\n",
       "      <td>1</td>\n",
       "      <td>0</td>\n",
       "    </tr>\n",
       "    <tr>\n",
       "      <th>3</th>\n",
       "      <td>111</td>\n",
       "      <td>6</td>\n",
       "      <td>3.89</td>\n",
       "      <td>7.4</td>\n",
       "      <td>0</td>\n",
       "      <td>1</td>\n",
       "    </tr>\n",
       "    <tr>\n",
       "      <th>4</th>\n",
       "      <td>44</td>\n",
       "      <td>1</td>\n",
       "      <td>3.57</td>\n",
       "      <td>4.8</td>\n",
       "      <td>0</td>\n",
       "      <td>0</td>\n",
       "    </tr>\n",
       "    <tr>\n",
       "      <th>5</th>\n",
       "      <td>77</td>\n",
       "      <td>3</td>\n",
       "      <td>3.57</td>\n",
       "      <td>6.4</td>\n",
       "      <td>0</td>\n",
       "      <td>0</td>\n",
       "    </tr>\n",
       "    <tr>\n",
       "      <th>6</th>\n",
       "      <td>80</td>\n",
       "      <td>3</td>\n",
       "      <td>3.03</td>\n",
       "      <td>7.0</td>\n",
       "      <td>1</td>\n",
       "      <td>0</td>\n",
       "    </tr>\n",
       "    <tr>\n",
       "      <th>7</th>\n",
       "      <td>66</td>\n",
       "      <td>2</td>\n",
       "      <td>3.51</td>\n",
       "      <td>5.6</td>\n",
       "      <td>0</td>\n",
       "      <td>1</td>\n",
       "    </tr>\n",
       "    <tr>\n",
       "      <th>8</th>\n",
       "      <td>109</td>\n",
       "      <td>5</td>\n",
       "      <td>3.54</td>\n",
       "      <td>7.3</td>\n",
       "      <td>0</td>\n",
       "      <td>0</td>\n",
       "    </tr>\n",
       "    <tr>\n",
       "      <th>9</th>\n",
       "      <td>75</td>\n",
       "      <td>3</td>\n",
       "      <td>3.25</td>\n",
       "      <td>6.4</td>\n",
       "      <td>0</td>\n",
       "      <td>0</td>\n",
       "    </tr>\n",
       "    <tr>\n",
       "      <th>10</th>\n",
       "      <td>85</td>\n",
       "      <td>2</td>\n",
       "      <td>3.31</td>\n",
       "      <td>6.9</td>\n",
       "      <td>1</td>\n",
       "      <td>0</td>\n",
       "    </tr>\n",
       "    <tr>\n",
       "      <th>11</th>\n",
       "      <td>110</td>\n",
       "      <td>6</td>\n",
       "      <td>3.20</td>\n",
       "      <td>7.3</td>\n",
       "      <td>1</td>\n",
       "      <td>0</td>\n",
       "    </tr>\n",
       "    <tr>\n",
       "      <th>12</th>\n",
       "      <td>45</td>\n",
       "      <td>1</td>\n",
       "      <td>3.70</td>\n",
       "      <td>4.8</td>\n",
       "      <td>0</td>\n",
       "      <td>1</td>\n",
       "    </tr>\n",
       "    <tr>\n",
       "      <th>13</th>\n",
       "      <td>79</td>\n",
       "      <td>1</td>\n",
       "      <td>3.21</td>\n",
       "      <td>6.8</td>\n",
       "      <td>1</td>\n",
       "      <td>0</td>\n",
       "    </tr>\n",
       "    <tr>\n",
       "      <th>14</th>\n",
       "      <td>90</td>\n",
       "      <td>4</td>\n",
       "      <td>3.87</td>\n",
       "      <td>7.0</td>\n",
       "      <td>0</td>\n",
       "      <td>1</td>\n",
       "    </tr>\n",
       "    <tr>\n",
       "      <th>15</th>\n",
       "      <td>76</td>\n",
       "      <td>2</td>\n",
       "      <td>3.56</td>\n",
       "      <td>6.5</td>\n",
       "      <td>0</td>\n",
       "      <td>1</td>\n",
       "    </tr>\n",
       "    <tr>\n",
       "      <th>16</th>\n",
       "      <td>81</td>\n",
       "      <td>3</td>\n",
       "      <td>3.21</td>\n",
       "      <td>7.0</td>\n",
       "      <td>0</td>\n",
       "      <td>0</td>\n",
       "    </tr>\n",
       "  </tbody>\n",
       "</table>\n",
       "</div>"
      ],
      "text/plain": [
       "    Area  Distance  Crime Rate  Price  Interlaken  Jeneva\n",
       "0     89         4        3.84    7.0           0       0\n",
       "1     66         1        3.19    5.4           0       1\n",
       "2     78         3        3.78    6.6           1       0\n",
       "3    111         6        3.89    7.4           0       1\n",
       "4     44         1        3.57    4.8           0       0\n",
       "5     77         3        3.57    6.4           0       0\n",
       "6     80         3        3.03    7.0           1       0\n",
       "7     66         2        3.51    5.6           0       1\n",
       "8    109         5        3.54    7.3           0       0\n",
       "9     75         3        3.25    6.4           0       0\n",
       "10    85         2        3.31    6.9           1       0\n",
       "11   110         6        3.20    7.3           1       0\n",
       "12    45         1        3.70    4.8           0       1\n",
       "13    79         1        3.21    6.8           1       0\n",
       "14    90         4        3.87    7.0           0       1\n",
       "15    76         2        3.56    6.5           0       1\n",
       "16    81         3        3.21    7.0           0       0"
      ]
     },
     "execution_count": 104,
     "metadata": {},
     "output_type": "execute_result"
    }
   ],
   "source": [
    "dataset = dataset.drop(['City'], axis=1)\n",
    "dataset"
   ]
  },
  {
   "cell_type": "markdown",
   "id": "2f54dd8d",
   "metadata": {},
   "source": [
    "#### Rearrange the columns to make the target variable the last column"
   ]
  },
  {
   "cell_type": "code",
   "execution_count": 105,
   "id": "957da78e",
   "metadata": {},
   "outputs": [
    {
     "data": {
      "text/plain": [
       "Index(['Area', 'Distance', 'Crime Rate', 'Price', 'Interlaken', 'Jeneva'], dtype='object')"
      ]
     },
     "execution_count": 105,
     "metadata": {},
     "output_type": "execute_result"
    }
   ],
   "source": [
    "# Print the column variables\n",
    "dataset.columns"
   ]
  },
  {
   "cell_type": "code",
   "execution_count": 106,
   "id": "4060c03c",
   "metadata": {},
   "outputs": [],
   "source": [
    "new_columns = ['Area', 'Distance', 'Crime Rate', 'Interlaken', 'Jeneva','Price']"
   ]
  },
  {
   "cell_type": "code",
   "execution_count": 107,
   "id": "7f1fbe71",
   "metadata": {},
   "outputs": [
    {
     "data": {
      "text/html": [
       "<div>\n",
       "<style scoped>\n",
       "    .dataframe tbody tr th:only-of-type {\n",
       "        vertical-align: middle;\n",
       "    }\n",
       "\n",
       "    .dataframe tbody tr th {\n",
       "        vertical-align: top;\n",
       "    }\n",
       "\n",
       "    .dataframe thead th {\n",
       "        text-align: right;\n",
       "    }\n",
       "</style>\n",
       "<table border=\"1\" class=\"dataframe\">\n",
       "  <thead>\n",
       "    <tr style=\"text-align: right;\">\n",
       "      <th></th>\n",
       "      <th>Area</th>\n",
       "      <th>Distance</th>\n",
       "      <th>Crime Rate</th>\n",
       "      <th>Interlaken</th>\n",
       "      <th>Jeneva</th>\n",
       "      <th>Price</th>\n",
       "    </tr>\n",
       "  </thead>\n",
       "  <tbody>\n",
       "    <tr>\n",
       "      <th>0</th>\n",
       "      <td>89</td>\n",
       "      <td>4</td>\n",
       "      <td>3.84</td>\n",
       "      <td>0</td>\n",
       "      <td>0</td>\n",
       "      <td>7.0</td>\n",
       "    </tr>\n",
       "    <tr>\n",
       "      <th>1</th>\n",
       "      <td>66</td>\n",
       "      <td>1</td>\n",
       "      <td>3.19</td>\n",
       "      <td>0</td>\n",
       "      <td>1</td>\n",
       "      <td>5.4</td>\n",
       "    </tr>\n",
       "    <tr>\n",
       "      <th>2</th>\n",
       "      <td>78</td>\n",
       "      <td>3</td>\n",
       "      <td>3.78</td>\n",
       "      <td>1</td>\n",
       "      <td>0</td>\n",
       "      <td>6.6</td>\n",
       "    </tr>\n",
       "    <tr>\n",
       "      <th>3</th>\n",
       "      <td>111</td>\n",
       "      <td>6</td>\n",
       "      <td>3.89</td>\n",
       "      <td>0</td>\n",
       "      <td>1</td>\n",
       "      <td>7.4</td>\n",
       "    </tr>\n",
       "    <tr>\n",
       "      <th>4</th>\n",
       "      <td>44</td>\n",
       "      <td>1</td>\n",
       "      <td>3.57</td>\n",
       "      <td>0</td>\n",
       "      <td>0</td>\n",
       "      <td>4.8</td>\n",
       "    </tr>\n",
       "    <tr>\n",
       "      <th>5</th>\n",
       "      <td>77</td>\n",
       "      <td>3</td>\n",
       "      <td>3.57</td>\n",
       "      <td>0</td>\n",
       "      <td>0</td>\n",
       "      <td>6.4</td>\n",
       "    </tr>\n",
       "    <tr>\n",
       "      <th>6</th>\n",
       "      <td>80</td>\n",
       "      <td>3</td>\n",
       "      <td>3.03</td>\n",
       "      <td>1</td>\n",
       "      <td>0</td>\n",
       "      <td>7.0</td>\n",
       "    </tr>\n",
       "    <tr>\n",
       "      <th>7</th>\n",
       "      <td>66</td>\n",
       "      <td>2</td>\n",
       "      <td>3.51</td>\n",
       "      <td>0</td>\n",
       "      <td>1</td>\n",
       "      <td>5.6</td>\n",
       "    </tr>\n",
       "    <tr>\n",
       "      <th>8</th>\n",
       "      <td>109</td>\n",
       "      <td>5</td>\n",
       "      <td>3.54</td>\n",
       "      <td>0</td>\n",
       "      <td>0</td>\n",
       "      <td>7.3</td>\n",
       "    </tr>\n",
       "    <tr>\n",
       "      <th>9</th>\n",
       "      <td>75</td>\n",
       "      <td>3</td>\n",
       "      <td>3.25</td>\n",
       "      <td>0</td>\n",
       "      <td>0</td>\n",
       "      <td>6.4</td>\n",
       "    </tr>\n",
       "    <tr>\n",
       "      <th>10</th>\n",
       "      <td>85</td>\n",
       "      <td>2</td>\n",
       "      <td>3.31</td>\n",
       "      <td>1</td>\n",
       "      <td>0</td>\n",
       "      <td>6.9</td>\n",
       "    </tr>\n",
       "    <tr>\n",
       "      <th>11</th>\n",
       "      <td>110</td>\n",
       "      <td>6</td>\n",
       "      <td>3.20</td>\n",
       "      <td>1</td>\n",
       "      <td>0</td>\n",
       "      <td>7.3</td>\n",
       "    </tr>\n",
       "    <tr>\n",
       "      <th>12</th>\n",
       "      <td>45</td>\n",
       "      <td>1</td>\n",
       "      <td>3.70</td>\n",
       "      <td>0</td>\n",
       "      <td>1</td>\n",
       "      <td>4.8</td>\n",
       "    </tr>\n",
       "    <tr>\n",
       "      <th>13</th>\n",
       "      <td>79</td>\n",
       "      <td>1</td>\n",
       "      <td>3.21</td>\n",
       "      <td>1</td>\n",
       "      <td>0</td>\n",
       "      <td>6.8</td>\n",
       "    </tr>\n",
       "    <tr>\n",
       "      <th>14</th>\n",
       "      <td>90</td>\n",
       "      <td>4</td>\n",
       "      <td>3.87</td>\n",
       "      <td>0</td>\n",
       "      <td>1</td>\n",
       "      <td>7.0</td>\n",
       "    </tr>\n",
       "    <tr>\n",
       "      <th>15</th>\n",
       "      <td>76</td>\n",
       "      <td>2</td>\n",
       "      <td>3.56</td>\n",
       "      <td>0</td>\n",
       "      <td>1</td>\n",
       "      <td>6.5</td>\n",
       "    </tr>\n",
       "    <tr>\n",
       "      <th>16</th>\n",
       "      <td>81</td>\n",
       "      <td>3</td>\n",
       "      <td>3.21</td>\n",
       "      <td>0</td>\n",
       "      <td>0</td>\n",
       "      <td>7.0</td>\n",
       "    </tr>\n",
       "  </tbody>\n",
       "</table>\n",
       "</div>"
      ],
      "text/plain": [
       "    Area  Distance  Crime Rate  Interlaken  Jeneva  Price\n",
       "0     89         4        3.84           0       0    7.0\n",
       "1     66         1        3.19           0       1    5.4\n",
       "2     78         3        3.78           1       0    6.6\n",
       "3    111         6        3.89           0       1    7.4\n",
       "4     44         1        3.57           0       0    4.8\n",
       "5     77         3        3.57           0       0    6.4\n",
       "6     80         3        3.03           1       0    7.0\n",
       "7     66         2        3.51           0       1    5.6\n",
       "8    109         5        3.54           0       0    7.3\n",
       "9     75         3        3.25           0       0    6.4\n",
       "10    85         2        3.31           1       0    6.9\n",
       "11   110         6        3.20           1       0    7.3\n",
       "12    45         1        3.70           0       1    4.8\n",
       "13    79         1        3.21           1       0    6.8\n",
       "14    90         4        3.87           0       1    7.0\n",
       "15    76         2        3.56           0       1    6.5\n",
       "16    81         3        3.21           0       0    7.0"
      ]
     },
     "execution_count": 107,
     "metadata": {},
     "output_type": "execute_result"
    }
   ],
   "source": [
    "dataset = dataset[new_columns]\n",
    "dataset"
   ]
  },
  {
   "cell_type": "markdown",
   "id": "a44b4d8d",
   "metadata": {},
   "source": [
    "#### Separate the target(price) variable from the predictors"
   ]
  },
  {
   "cell_type": "code",
   "execution_count": 108,
   "id": "408799b9",
   "metadata": {},
   "outputs": [],
   "source": [
    "X = dataset.iloc[0:,0:5].values \n",
    "Y = dataset.iloc[0:, -1].values"
   ]
  },
  {
   "cell_type": "code",
   "execution_count": 109,
   "id": "1afc5765",
   "metadata": {},
   "outputs": [
    {
     "name": "stdout",
     "output_type": "stream",
     "text": [
      "X Predicting variables\n",
      "\n",
      " [[ 89.     4.     3.84   0.     0.  ]\n",
      " [ 66.     1.     3.19   0.     1.  ]\n",
      " [ 78.     3.     3.78   1.     0.  ]\n",
      " [111.     6.     3.89   0.     1.  ]\n",
      " [ 44.     1.     3.57   0.     0.  ]\n",
      " [ 77.     3.     3.57   0.     0.  ]\n",
      " [ 80.     3.     3.03   1.     0.  ]\n",
      " [ 66.     2.     3.51   0.     1.  ]\n",
      " [109.     5.     3.54   0.     0.  ]\n",
      " [ 75.     3.     3.25   0.     0.  ]\n",
      " [ 85.     2.     3.31   1.     0.  ]\n",
      " [110.     6.     3.2    1.     0.  ]\n",
      " [ 45.     1.     3.7    0.     1.  ]\n",
      " [ 79.     1.     3.21   1.     0.  ]\n",
      " [ 90.     4.     3.87   0.     1.  ]\n",
      " [ 76.     2.     3.56   0.     1.  ]\n",
      " [ 81.     3.     3.21   0.     0.  ]] \n",
      "\n",
      "Dependent variable Y \n",
      "\n",
      " [7.  5.4 6.6 7.4 4.8 6.4 7.  5.6 7.3 6.4 6.9 7.3 4.8 6.8 7.  6.5 7. ]\n"
     ]
    }
   ],
   "source": [
    "print('X Predicting variables\\n\\n', X,'\\n\\nDependent variable Y \\n\\n',Y)"
   ]
  },
  {
   "cell_type": "code",
   "execution_count": 110,
   "id": "332d872a",
   "metadata": {},
   "outputs": [],
   "source": [
    "# Split the data set into training and testing data\n",
    "X_train,X_test, Y_train, Y_test = train_test_split(X,Y, test_size=0.4, random_state=0)"
   ]
  },
  {
   "cell_type": "markdown",
   "id": "3260f920",
   "metadata": {},
   "source": [
    "#### Instantiate the linear regression class ."
   ]
  },
  {
   "cell_type": "code",
   "execution_count": 116,
   "id": "6ccdf0ed",
   "metadata": {},
   "outputs": [
    {
     "data": {
      "text/html": [
       "<style>#sk-container-id-7 {color: black;}#sk-container-id-7 pre{padding: 0;}#sk-container-id-7 div.sk-toggleable {background-color: white;}#sk-container-id-7 label.sk-toggleable__label {cursor: pointer;display: block;width: 100%;margin-bottom: 0;padding: 0.3em;box-sizing: border-box;text-align: center;}#sk-container-id-7 label.sk-toggleable__label-arrow:before {content: \"▸\";float: left;margin-right: 0.25em;color: #696969;}#sk-container-id-7 label.sk-toggleable__label-arrow:hover:before {color: black;}#sk-container-id-7 div.sk-estimator:hover label.sk-toggleable__label-arrow:before {color: black;}#sk-container-id-7 div.sk-toggleable__content {max-height: 0;max-width: 0;overflow: hidden;text-align: left;background-color: #f0f8ff;}#sk-container-id-7 div.sk-toggleable__content pre {margin: 0.2em;color: black;border-radius: 0.25em;background-color: #f0f8ff;}#sk-container-id-7 input.sk-toggleable__control:checked~div.sk-toggleable__content {max-height: 200px;max-width: 100%;overflow: auto;}#sk-container-id-7 input.sk-toggleable__control:checked~label.sk-toggleable__label-arrow:before {content: \"▾\";}#sk-container-id-7 div.sk-estimator input.sk-toggleable__control:checked~label.sk-toggleable__label {background-color: #d4ebff;}#sk-container-id-7 div.sk-label input.sk-toggleable__control:checked~label.sk-toggleable__label {background-color: #d4ebff;}#sk-container-id-7 input.sk-hidden--visually {border: 0;clip: rect(1px 1px 1px 1px);clip: rect(1px, 1px, 1px, 1px);height: 1px;margin: -1px;overflow: hidden;padding: 0;position: absolute;width: 1px;}#sk-container-id-7 div.sk-estimator {font-family: monospace;background-color: #f0f8ff;border: 1px dotted black;border-radius: 0.25em;box-sizing: border-box;margin-bottom: 0.5em;}#sk-container-id-7 div.sk-estimator:hover {background-color: #d4ebff;}#sk-container-id-7 div.sk-parallel-item::after {content: \"\";width: 100%;border-bottom: 1px solid gray;flex-grow: 1;}#sk-container-id-7 div.sk-label:hover label.sk-toggleable__label {background-color: #d4ebff;}#sk-container-id-7 div.sk-serial::before {content: \"\";position: absolute;border-left: 1px solid gray;box-sizing: border-box;top: 0;bottom: 0;left: 50%;z-index: 0;}#sk-container-id-7 div.sk-serial {display: flex;flex-direction: column;align-items: center;background-color: white;padding-right: 0.2em;padding-left: 0.2em;position: relative;}#sk-container-id-7 div.sk-item {position: relative;z-index: 1;}#sk-container-id-7 div.sk-parallel {display: flex;align-items: stretch;justify-content: center;background-color: white;position: relative;}#sk-container-id-7 div.sk-item::before, #sk-container-id-7 div.sk-parallel-item::before {content: \"\";position: absolute;border-left: 1px solid gray;box-sizing: border-box;top: 0;bottom: 0;left: 50%;z-index: -1;}#sk-container-id-7 div.sk-parallel-item {display: flex;flex-direction: column;z-index: 1;position: relative;background-color: white;}#sk-container-id-7 div.sk-parallel-item:first-child::after {align-self: flex-end;width: 50%;}#sk-container-id-7 div.sk-parallel-item:last-child::after {align-self: flex-start;width: 50%;}#sk-container-id-7 div.sk-parallel-item:only-child::after {width: 0;}#sk-container-id-7 div.sk-dashed-wrapped {border: 1px dashed gray;margin: 0 0.4em 0.5em 0.4em;box-sizing: border-box;padding-bottom: 0.4em;background-color: white;}#sk-container-id-7 div.sk-label label {font-family: monospace;font-weight: bold;display: inline-block;line-height: 1.2em;}#sk-container-id-7 div.sk-label-container {text-align: center;}#sk-container-id-7 div.sk-container {/* jupyter's `normalize.less` sets `[hidden] { display: none; }` but bootstrap.min.css set `[hidden] { display: none !important; }` so we also need the `!important` here to be able to override the default hidden behavior on the sphinx rendered scikit-learn.org. See: https://github.com/scikit-learn/scikit-learn/issues/21755 */display: inline-block !important;position: relative;}#sk-container-id-7 div.sk-text-repr-fallback {display: none;}</style><div id=\"sk-container-id-7\" class=\"sk-top-container\"><div class=\"sk-text-repr-fallback\"><pre>LinearRegression()</pre><b>In a Jupyter environment, please rerun this cell to show the HTML representation or trust the notebook. <br />On GitHub, the HTML representation is unable to render, please try loading this page with nbviewer.org.</b></div><div class=\"sk-container\" hidden><div class=\"sk-item\"><div class=\"sk-estimator sk-toggleable\"><input class=\"sk-toggleable__control sk-hidden--visually\" id=\"sk-estimator-id-7\" type=\"checkbox\" checked><label for=\"sk-estimator-id-7\" class=\"sk-toggleable__label sk-toggleable__label-arrow\">LinearRegression</label><div class=\"sk-toggleable__content\"><pre>LinearRegression()</pre></div></div></div></div></div>"
      ],
      "text/plain": [
       "LinearRegression()"
      ]
     },
     "execution_count": 116,
     "metadata": {},
     "output_type": "execute_result"
    }
   ],
   "source": [
    "lin_regressor = LinearRegression()\n",
    "lin_regressor.fit(X_train, Y_train)"
   ]
  },
  {
   "cell_type": "markdown",
   "id": "89f76ab1",
   "metadata": {},
   "source": [
    "#### MODEL PREDICTION"
   ]
  },
  {
   "cell_type": "code",
   "execution_count": 117,
   "id": "b29506ff",
   "metadata": {},
   "outputs": [],
   "source": [
    "# Test data prediction\n",
    "y_pred_test = lin_regressor.predict(X_test)\n",
    "\n",
    "# Training data prediction\n",
    "y_pred_train = lin_regressor.predict(X_train)"
   ]
  },
  {
   "cell_type": "code",
   "execution_count": 118,
   "id": "e8563f0b",
   "metadata": {
    "scrolled": true
   },
   "outputs": [
    {
     "name": "stdout",
     "output_type": "stream",
     "text": [
      "Original price of land\n",
      "\n",
      " [5.4 7.  7.3 6.4 6.8 4.8 6.6]\n",
      "\n",
      "\n",
      "Price predicted by the model on test data\n",
      " [6.17 6.26 8.05 6.43 6.85 4.98 6.08]\n"
     ]
    }
   ],
   "source": [
    "print('Original price of land\\n\\n',Y_test)\n",
    "print('\\n')\n",
    "print('Price predicted by the model on test data\\n', y_pred_test.round(2))"
   ]
  },
  {
   "cell_type": "markdown",
   "id": "76dc99ae",
   "metadata": {},
   "source": [
    "We can see a big difference between the predicted prices and actual prices."
   ]
  },
  {
   "cell_type": "markdown",
   "id": "b68f4d72",
   "metadata": {},
   "source": [
    "#### R SQUARED VALUES"
   ]
  },
  {
   "cell_type": "code",
   "execution_count": 119,
   "id": "1e4c9dc3",
   "metadata": {},
   "outputs": [
    {
     "data": {
      "text/plain": [
       "0.97"
      ]
     },
     "execution_count": 119,
     "metadata": {},
     "output_type": "execute_result"
    }
   ],
   "source": [
    "# R_Squared value for the trained and predicted trained values\n",
    "r_square_train = r2_score(Y_train,y_pred_train)\n",
    "r_square_train.round(2)"
   ]
  },
  {
   "cell_type": "code",
   "execution_count": 120,
   "id": "b5ca201a",
   "metadata": {},
   "outputs": [
    {
     "data": {
      "text/plain": [
       "0.59"
      ]
     },
     "execution_count": 120,
     "metadata": {},
     "output_type": "execute_result"
    }
   ],
   "source": [
    "# R_Squared value for the actual and predicted value\n",
    "r_square_test = r2_score(Y_test,y_pred_test)\n",
    "r_square_test.round(2)"
   ]
  },
  {
   "cell_type": "markdown",
   "id": "0f210c20",
   "metadata": {},
   "source": [
    "From the R squared values, we can tell that the model has performed poorly on the test data but overfitted the training data."
   ]
  },
  {
   "cell_type": "markdown",
   "id": "7c24f9d9",
   "metadata": {},
   "source": [
    "#### Template to predict house prices in the three various cities of (Interlaken, Jeneva, Zurich)"
   ]
  },
  {
   "cell_type": "markdown",
   "id": "5ab9b0e1",
   "metadata": {},
   "source": [
    "### For Interlaken"
   ]
  },
  {
   "cell_type": "code",
   "execution_count": 126,
   "id": "466788cf",
   "metadata": {},
   "outputs": [
    {
     "name": "stdout",
     "output_type": "stream",
     "text": [
      "[0.69]\n"
     ]
    }
   ],
   "source": [
    "transformed_values = np.array([[96,23,3.55,1,0]])\n",
    "pred_price = lin_regressor.predict(transformed_values)\n",
    "print(pred_price.round(2))"
   ]
  },
  {
   "cell_type": "markdown",
   "id": "57c8d85e",
   "metadata": {},
   "source": [
    "### For Jeneva"
   ]
  },
  {
   "cell_type": "code",
   "execution_count": 127,
   "id": "3e66deee",
   "metadata": {},
   "outputs": [
    {
     "name": "stdout",
     "output_type": "stream",
     "text": [
      "[0.89]\n"
     ]
    }
   ],
   "source": [
    "transformed_values = np.array([[96,23,3.55,0,1]])\n",
    "pred_price = lin_regressor.predict(transformed_values)\n",
    "print(pred_price.round(2))"
   ]
  },
  {
   "cell_type": "markdown",
   "id": "2db71adc",
   "metadata": {},
   "source": [
    "### For Zurich"
   ]
  },
  {
   "cell_type": "code",
   "execution_count": 128,
   "id": "5370f0fe",
   "metadata": {},
   "outputs": [
    {
     "name": "stdout",
     "output_type": "stream",
     "text": [
      "[1.21]\n"
     ]
    }
   ],
   "source": [
    "transformed_values = np.array([[96,23,3.55,0,0]])\n",
    "pred_price = lin_regressor.predict(transformed_values)\n",
    "print(pred_price.round(2))"
   ]
  },
  {
   "cell_type": "markdown",
   "id": "81f54647",
   "metadata": {},
   "source": [
    "If you look at the price prediction above, same values like we did previously were inputed considering same conditions in the Cities of Zurich, Interlaken and Jeneva.\n",
    "Clearly, we can tell that despite the poor performance of our model, the cost of houses in Zurich are more expensive given same area, distance and crime rate.\n",
    "However, this massive gap between the training and testing data (model performance) can be checked with **regularization techniques(Ridge and Lasso regressions)**.\n",
    "This will be seen from the **regularisation** section."
   ]
  }
 ],
 "metadata": {
  "kernelspec": {
   "display_name": "Python 3 (ipykernel)",
   "language": "python",
   "name": "python3"
  },
  "language_info": {
   "codemirror_mode": {
    "name": "ipython",
    "version": 3
   },
   "file_extension": ".py",
   "mimetype": "text/x-python",
   "name": "python",
   "nbconvert_exporter": "python",
   "pygments_lexer": "ipython3",
   "version": "3.10.9"
  }
 },
 "nbformat": 4,
 "nbformat_minor": 5
}
