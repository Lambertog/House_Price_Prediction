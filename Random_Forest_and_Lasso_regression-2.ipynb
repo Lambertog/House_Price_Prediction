{
 "cells": [
  {
   "cell_type": "markdown",
   "id": "e0d74f3c",
   "metadata": {},
   "source": [
    "### RANDOM FOREST REGRESSION"
   ]
  },
  {
   "cell_type": "markdown",
   "id": "eeac814b",
   "metadata": {},
   "source": [
    "Use Random Forest when you have a lot of variables or features(columns).\n",
    "\n",
    "It is bassically used for both classification and regression problems.\n",
    "\n",
    "Using a random forest is almost pointless with only two dependent variables because a strength in the random forest is using a random subset of variables for each node split when determining which to use.\n",
    "\n",
    "It is commonly used in stock market; predictt profit and loss by identifying stock behaviour.\n",
    "consumer finance survey\n",
    "calculation of harmful gases\n",
    "\n"
   ]
  },
  {
   "cell_type": "code",
   "execution_count": 171,
   "id": "4e8b4b5b",
   "metadata": {},
   "outputs": [],
   "source": [
    "# Import the libraries needed\n",
    "\n",
    "import pandas as pd\n",
    "from sklearn.model_selection import train_test_split\n",
    "from sklearn.linear_model import LinearRegression\n",
    "import numpy as np\n",
    "import matplotlib.pyplot as plt\n",
    "from sklearn.ensemble import RandomForestRegressor"
   ]
  },
  {
   "cell_type": "code",
   "execution_count": 172,
   "id": "3bef8112",
   "metadata": {
    "scrolled": true
   },
   "outputs": [
    {
     "data": {
      "text/html": [
       "<div>\n",
       "<style scoped>\n",
       "    .dataframe tbody tr th:only-of-type {\n",
       "        vertical-align: middle;\n",
       "    }\n",
       "\n",
       "    .dataframe tbody tr th {\n",
       "        vertical-align: top;\n",
       "    }\n",
       "\n",
       "    .dataframe thead th {\n",
       "        text-align: right;\n",
       "    }\n",
       "</style>\n",
       "<table border=\"1\" class=\"dataframe\">\n",
       "  <thead>\n",
       "    <tr style=\"text-align: right;\">\n",
       "      <th></th>\n",
       "      <th>Area</th>\n",
       "      <th>No of Rooms</th>\n",
       "      <th>Age of House</th>\n",
       "      <th>Price</th>\n",
       "    </tr>\n",
       "  </thead>\n",
       "  <tbody>\n",
       "    <tr>\n",
       "      <th>0</th>\n",
       "      <td>2422</td>\n",
       "      <td>4</td>\n",
       "      <td>35</td>\n",
       "      <td>32500</td>\n",
       "    </tr>\n",
       "    <tr>\n",
       "      <th>1</th>\n",
       "      <td>2130</td>\n",
       "      <td>3</td>\n",
       "      <td>39</td>\n",
       "      <td>27000</td>\n",
       "    </tr>\n",
       "    <tr>\n",
       "      <th>2</th>\n",
       "      <td>1900</td>\n",
       "      <td>2</td>\n",
       "      <td>16</td>\n",
       "      <td>24000</td>\n",
       "    </tr>\n",
       "    <tr>\n",
       "      <th>3</th>\n",
       "      <td>3100</td>\n",
       "      <td>6</td>\n",
       "      <td>41</td>\n",
       "      <td>44000</td>\n",
       "    </tr>\n",
       "  </tbody>\n",
       "</table>\n",
       "</div>"
      ],
      "text/plain": [
       "   Area  No of Rooms  Age of House  Price \n",
       "0  2422            4            35   32500\n",
       "1  2130            3            39   27000\n",
       "2  1900            2            16   24000\n",
       "3  3100            6            41   44000"
      ]
     },
     "execution_count": 172,
     "metadata": {},
     "output_type": "execute_result"
    }
   ],
   "source": [
    "# import the dataset\n",
    "dataset = pd.read_csv('/Users/lambertagunbiade/Desktop/SUPERVISED MACHINE LEARNING /HousePrice2.csv')\n",
    "dataset.head(4)"
   ]
  },
  {
   "cell_type": "markdown",
   "id": "99bf4b56",
   "metadata": {},
   "source": [
    "* First 4 rows of our data."
   ]
  },
  {
   "cell_type": "markdown",
   "id": "5d5f9dc5",
   "metadata": {},
   "source": [
    "#### Separate the target variable from the predictors"
   ]
  },
  {
   "cell_type": "code",
   "execution_count": 173,
   "id": "1a02adfe",
   "metadata": {},
   "outputs": [],
   "source": [
    "X = dataset.iloc[0:,0:-1].values\n",
    "y = dataset.iloc[0:,-1].values"
   ]
  },
  {
   "cell_type": "markdown",
   "id": "ced5d9ba",
   "metadata": {},
   "source": [
    "#### Split data into training and testing data"
   ]
  },
  {
   "cell_type": "code",
   "execution_count": 174,
   "id": "8dc0d25d",
   "metadata": {},
   "outputs": [],
   "source": [
    "X_train, X_test, y_train, y_test = train_test_split(X, y, test_size=0.25, random_state=0)"
   ]
  },
  {
   "cell_type": "markdown",
   "id": "162034e5",
   "metadata": {},
   "source": [
    "#### Instantiate the random forest regression class"
   ]
  },
  {
   "cell_type": "code",
   "execution_count": 175,
   "id": "bbcd7195",
   "metadata": {
    "scrolled": true
   },
   "outputs": [
    {
     "data": {
      "text/html": [
       "<style>#sk-container-id-17 {color: black;}#sk-container-id-17 pre{padding: 0;}#sk-container-id-17 div.sk-toggleable {background-color: white;}#sk-container-id-17 label.sk-toggleable__label {cursor: pointer;display: block;width: 100%;margin-bottom: 0;padding: 0.3em;box-sizing: border-box;text-align: center;}#sk-container-id-17 label.sk-toggleable__label-arrow:before {content: \"▸\";float: left;margin-right: 0.25em;color: #696969;}#sk-container-id-17 label.sk-toggleable__label-arrow:hover:before {color: black;}#sk-container-id-17 div.sk-estimator:hover label.sk-toggleable__label-arrow:before {color: black;}#sk-container-id-17 div.sk-toggleable__content {max-height: 0;max-width: 0;overflow: hidden;text-align: left;background-color: #f0f8ff;}#sk-container-id-17 div.sk-toggleable__content pre {margin: 0.2em;color: black;border-radius: 0.25em;background-color: #f0f8ff;}#sk-container-id-17 input.sk-toggleable__control:checked~div.sk-toggleable__content {max-height: 200px;max-width: 100%;overflow: auto;}#sk-container-id-17 input.sk-toggleable__control:checked~label.sk-toggleable__label-arrow:before {content: \"▾\";}#sk-container-id-17 div.sk-estimator input.sk-toggleable__control:checked~label.sk-toggleable__label {background-color: #d4ebff;}#sk-container-id-17 div.sk-label input.sk-toggleable__control:checked~label.sk-toggleable__label {background-color: #d4ebff;}#sk-container-id-17 input.sk-hidden--visually {border: 0;clip: rect(1px 1px 1px 1px);clip: rect(1px, 1px, 1px, 1px);height: 1px;margin: -1px;overflow: hidden;padding: 0;position: absolute;width: 1px;}#sk-container-id-17 div.sk-estimator {font-family: monospace;background-color: #f0f8ff;border: 1px dotted black;border-radius: 0.25em;box-sizing: border-box;margin-bottom: 0.5em;}#sk-container-id-17 div.sk-estimator:hover {background-color: #d4ebff;}#sk-container-id-17 div.sk-parallel-item::after {content: \"\";width: 100%;border-bottom: 1px solid gray;flex-grow: 1;}#sk-container-id-17 div.sk-label:hover label.sk-toggleable__label {background-color: #d4ebff;}#sk-container-id-17 div.sk-serial::before {content: \"\";position: absolute;border-left: 1px solid gray;box-sizing: border-box;top: 0;bottom: 0;left: 50%;z-index: 0;}#sk-container-id-17 div.sk-serial {display: flex;flex-direction: column;align-items: center;background-color: white;padding-right: 0.2em;padding-left: 0.2em;position: relative;}#sk-container-id-17 div.sk-item {position: relative;z-index: 1;}#sk-container-id-17 div.sk-parallel {display: flex;align-items: stretch;justify-content: center;background-color: white;position: relative;}#sk-container-id-17 div.sk-item::before, #sk-container-id-17 div.sk-parallel-item::before {content: \"\";position: absolute;border-left: 1px solid gray;box-sizing: border-box;top: 0;bottom: 0;left: 50%;z-index: -1;}#sk-container-id-17 div.sk-parallel-item {display: flex;flex-direction: column;z-index: 1;position: relative;background-color: white;}#sk-container-id-17 div.sk-parallel-item:first-child::after {align-self: flex-end;width: 50%;}#sk-container-id-17 div.sk-parallel-item:last-child::after {align-self: flex-start;width: 50%;}#sk-container-id-17 div.sk-parallel-item:only-child::after {width: 0;}#sk-container-id-17 div.sk-dashed-wrapped {border: 1px dashed gray;margin: 0 0.4em 0.5em 0.4em;box-sizing: border-box;padding-bottom: 0.4em;background-color: white;}#sk-container-id-17 div.sk-label label {font-family: monospace;font-weight: bold;display: inline-block;line-height: 1.2em;}#sk-container-id-17 div.sk-label-container {text-align: center;}#sk-container-id-17 div.sk-container {/* jupyter's `normalize.less` sets `[hidden] { display: none; }` but bootstrap.min.css set `[hidden] { display: none !important; }` so we also need the `!important` here to be able to override the default hidden behavior on the sphinx rendered scikit-learn.org. See: https://github.com/scikit-learn/scikit-learn/issues/21755 */display: inline-block !important;position: relative;}#sk-container-id-17 div.sk-text-repr-fallback {display: none;}</style><div id=\"sk-container-id-17\" class=\"sk-top-container\"><div class=\"sk-text-repr-fallback\"><pre>RandomForestRegressor(n_estimators=15)</pre><b>In a Jupyter environment, please rerun this cell to show the HTML representation or trust the notebook. <br />On GitHub, the HTML representation is unable to render, please try loading this page with nbviewer.org.</b></div><div class=\"sk-container\" hidden><div class=\"sk-item\"><div class=\"sk-estimator sk-toggleable\"><input class=\"sk-toggleable__control sk-hidden--visually\" id=\"sk-estimator-id-17\" type=\"checkbox\" checked><label for=\"sk-estimator-id-17\" class=\"sk-toggleable__label sk-toggleable__label-arrow\">RandomForestRegressor</label><div class=\"sk-toggleable__content\"><pre>RandomForestRegressor(n_estimators=15)</pre></div></div></div></div></div>"
      ],
      "text/plain": [
       "RandomForestRegressor(n_estimators=15)"
      ]
     },
     "execution_count": 175,
     "metadata": {},
     "output_type": "execute_result"
    }
   ],
   "source": [
    "rand_regressor = RandomForestRegressor(n_estimators=15)\n",
    "rand_regressor.fit(X_train,y_train)"
   ]
  },
  {
   "cell_type": "markdown",
   "id": "f887c4bf",
   "metadata": {},
   "source": [
    "The decision for the value of n_estimator of our model was because we got the best estimate at this value of n-estimators. However, we know that the higher the number of estimators as well as more number of iteration of our model, the better its performance and accuracy.\n",
    "\n",
    "\n",
    "credit: https://www.sciencedirect.com/science/article/pii/S1877050922001016"
   ]
  },
  {
   "cell_type": "markdown",
   "id": "036f09e7",
   "metadata": {},
   "source": [
    "### Model Prediction"
   ]
  },
  {
   "cell_type": "code",
   "execution_count": 176,
   "id": "9df85151",
   "metadata": {},
   "outputs": [],
   "source": [
    "# training data \n",
    "y_pred_rand_train = rand_regressor.predict(X_train)\n",
    "\n",
    "#testing data\n",
    "y_pred_rand_test = rand_regressor.predict(X_test)"
   ]
  },
  {
   "cell_type": "code",
   "execution_count": 177,
   "id": "a07323b0",
   "metadata": {
    "scrolled": true
   },
   "outputs": [
    {
     "name": "stdout",
     "output_type": "stream",
     "text": [
      "Actual prices of the land\n",
      "\n",
      " [27000 51000 43000 47500] \n",
      "\n",
      " Predicted prices by Random Forest regression model\n",
      " [29592.67 48633.33 43066.67 48360.  ]\n"
     ]
    }
   ],
   "source": [
    "print('Actual prices of the land\\n\\n', y_test,'\\n\\n Predicted prices by Random Forest regression model\\n',y_pred_rand_test.round(2))\n",
    "\n",
    "\n",
    "# print('\\nPredicted prices by the linear regression model\\n\\n', y_pred_rand.round(2))"
   ]
  },
  {
   "cell_type": "markdown",
   "id": "6fff163d",
   "metadata": {},
   "source": [
    "The predicted charges above seem to have a huge difference when compared with the actual charges.\n",
    "Let us see the difference between the real and predicted charges"
   ]
  },
  {
   "cell_type": "code",
   "execution_count": 178,
   "id": "8f0859fc",
   "metadata": {},
   "outputs": [
    {
     "data": {
      "text/plain": [
       "array([ 2592.67, -2366.67,    66.67,   860.  ])"
      ]
     },
     "execution_count": 178,
     "metadata": {},
     "output_type": "execute_result"
    }
   ],
   "source": [
    "prediction_difference = y_pred_rand_test - y_test\n",
    "prediction_difference.round(2)"
   ]
  },
  {
   "cell_type": "markdown",
   "id": "38f56def",
   "metadata": {},
   "source": [
    "Although the model variation is from -2366.67 to 2592.67.0 but its performance looks great. Let us see its R Squared values."
   ]
  },
  {
   "cell_type": "markdown",
   "id": "47f149e8",
   "metadata": {},
   "source": [
    "#### R SQUARED VALUES"
   ]
  },
  {
   "cell_type": "code",
   "execution_count": 179,
   "id": "420b5e4b",
   "metadata": {},
   "outputs": [],
   "source": [
    "# Import r sqaured library and create an object of it thus;\n",
    "from sklearn.metrics import r2_score"
   ]
  },
  {
   "cell_type": "code",
   "execution_count": 180,
   "id": "717636e5",
   "metadata": {},
   "outputs": [
    {
     "name": "stdout",
     "output_type": "stream",
     "text": [
      "R square values:- goodness of fit\n",
      "Training data:  0.96 Testing data:  0.96\n"
     ]
    }
   ],
   "source": [
    "# Training data r square value\n",
    "r_square_rand_train = r2_score(y_train, y_pred_rand_train)\n",
    "\n",
    "# Testing data r square value\n",
    "r_square_rand_test = r2_score(y_test, y_pred_rand_test)\n",
    "\n",
    "print('R square values:- goodness of fit')\n",
    "print('Training data: ', r_square_rand_train.round(2),'Testing data: ',r_square_rand_test.round(2) )"
   ]
  },
  {
   "cell_type": "markdown",
   "id": "b29ad619",
   "metadata": {},
   "source": [
    "The random forest regression model has performed greatly with a knowlege of variation of the training and test data to be 96% and 96% respectively. Thus, it is reliable for us to predict house prices  of unseen data with the three features in our dataset."
   ]
  },
  {
   "cell_type": "code",
   "execution_count": null,
   "id": "9ca26271",
   "metadata": {},
   "outputs": [],
   "source": []
  },
  {
   "cell_type": "markdown",
   "id": "a03fa931",
   "metadata": {},
   "source": [
    "#### LASSO REGRESSION"
   ]
  },
  {
   "cell_type": "code",
   "execution_count": 181,
   "id": "4fab8656",
   "metadata": {},
   "outputs": [],
   "source": [
    "# import the ridge regression class\n",
    "from sklearn.linear_model import Lasso"
   ]
  },
  {
   "cell_type": "markdown",
   "id": "29199ed5",
   "metadata": {},
   "source": [
    "##### Instantiate and fit the model on the training data"
   ]
  },
  {
   "cell_type": "code",
   "execution_count": 182,
   "id": "f8578c9c",
   "metadata": {},
   "outputs": [
    {
     "data": {
      "text/html": [
       "<style>#sk-container-id-18 {color: black;}#sk-container-id-18 pre{padding: 0;}#sk-container-id-18 div.sk-toggleable {background-color: white;}#sk-container-id-18 label.sk-toggleable__label {cursor: pointer;display: block;width: 100%;margin-bottom: 0;padding: 0.3em;box-sizing: border-box;text-align: center;}#sk-container-id-18 label.sk-toggleable__label-arrow:before {content: \"▸\";float: left;margin-right: 0.25em;color: #696969;}#sk-container-id-18 label.sk-toggleable__label-arrow:hover:before {color: black;}#sk-container-id-18 div.sk-estimator:hover label.sk-toggleable__label-arrow:before {color: black;}#sk-container-id-18 div.sk-toggleable__content {max-height: 0;max-width: 0;overflow: hidden;text-align: left;background-color: #f0f8ff;}#sk-container-id-18 div.sk-toggleable__content pre {margin: 0.2em;color: black;border-radius: 0.25em;background-color: #f0f8ff;}#sk-container-id-18 input.sk-toggleable__control:checked~div.sk-toggleable__content {max-height: 200px;max-width: 100%;overflow: auto;}#sk-container-id-18 input.sk-toggleable__control:checked~label.sk-toggleable__label-arrow:before {content: \"▾\";}#sk-container-id-18 div.sk-estimator input.sk-toggleable__control:checked~label.sk-toggleable__label {background-color: #d4ebff;}#sk-container-id-18 div.sk-label input.sk-toggleable__control:checked~label.sk-toggleable__label {background-color: #d4ebff;}#sk-container-id-18 input.sk-hidden--visually {border: 0;clip: rect(1px 1px 1px 1px);clip: rect(1px, 1px, 1px, 1px);height: 1px;margin: -1px;overflow: hidden;padding: 0;position: absolute;width: 1px;}#sk-container-id-18 div.sk-estimator {font-family: monospace;background-color: #f0f8ff;border: 1px dotted black;border-radius: 0.25em;box-sizing: border-box;margin-bottom: 0.5em;}#sk-container-id-18 div.sk-estimator:hover {background-color: #d4ebff;}#sk-container-id-18 div.sk-parallel-item::after {content: \"\";width: 100%;border-bottom: 1px solid gray;flex-grow: 1;}#sk-container-id-18 div.sk-label:hover label.sk-toggleable__label {background-color: #d4ebff;}#sk-container-id-18 div.sk-serial::before {content: \"\";position: absolute;border-left: 1px solid gray;box-sizing: border-box;top: 0;bottom: 0;left: 50%;z-index: 0;}#sk-container-id-18 div.sk-serial {display: flex;flex-direction: column;align-items: center;background-color: white;padding-right: 0.2em;padding-left: 0.2em;position: relative;}#sk-container-id-18 div.sk-item {position: relative;z-index: 1;}#sk-container-id-18 div.sk-parallel {display: flex;align-items: stretch;justify-content: center;background-color: white;position: relative;}#sk-container-id-18 div.sk-item::before, #sk-container-id-18 div.sk-parallel-item::before {content: \"\";position: absolute;border-left: 1px solid gray;box-sizing: border-box;top: 0;bottom: 0;left: 50%;z-index: -1;}#sk-container-id-18 div.sk-parallel-item {display: flex;flex-direction: column;z-index: 1;position: relative;background-color: white;}#sk-container-id-18 div.sk-parallel-item:first-child::after {align-self: flex-end;width: 50%;}#sk-container-id-18 div.sk-parallel-item:last-child::after {align-self: flex-start;width: 50%;}#sk-container-id-18 div.sk-parallel-item:only-child::after {width: 0;}#sk-container-id-18 div.sk-dashed-wrapped {border: 1px dashed gray;margin: 0 0.4em 0.5em 0.4em;box-sizing: border-box;padding-bottom: 0.4em;background-color: white;}#sk-container-id-18 div.sk-label label {font-family: monospace;font-weight: bold;display: inline-block;line-height: 1.2em;}#sk-container-id-18 div.sk-label-container {text-align: center;}#sk-container-id-18 div.sk-container {/* jupyter's `normalize.less` sets `[hidden] { display: none; }` but bootstrap.min.css set `[hidden] { display: none !important; }` so we also need the `!important` here to be able to override the default hidden behavior on the sphinx rendered scikit-learn.org. See: https://github.com/scikit-learn/scikit-learn/issues/21755 */display: inline-block !important;position: relative;}#sk-container-id-18 div.sk-text-repr-fallback {display: none;}</style><div id=\"sk-container-id-18\" class=\"sk-top-container\"><div class=\"sk-text-repr-fallback\"><pre>Lasso(alpha=2)</pre><b>In a Jupyter environment, please rerun this cell to show the HTML representation or trust the notebook. <br />On GitHub, the HTML representation is unable to render, please try loading this page with nbviewer.org.</b></div><div class=\"sk-container\" hidden><div class=\"sk-item\"><div class=\"sk-estimator sk-toggleable\"><input class=\"sk-toggleable__control sk-hidden--visually\" id=\"sk-estimator-id-18\" type=\"checkbox\" checked><label for=\"sk-estimator-id-18\" class=\"sk-toggleable__label sk-toggleable__label-arrow\">Lasso</label><div class=\"sk-toggleable__content\"><pre>Lasso(alpha=2)</pre></div></div></div></div></div>"
      ],
      "text/plain": [
       "Lasso(alpha=2)"
      ]
     },
     "execution_count": 182,
     "metadata": {},
     "output_type": "execute_result"
    }
   ],
   "source": [
    "lass = Lasso(alpha = 2) # Note: The choice of alpha is quite sensitive.\n",
    "lass.fit(X_train, y_train)"
   ]
  },
  {
   "cell_type": "markdown",
   "id": "831b20d2",
   "metadata": {},
   "source": [
    "#### MODEL PREDICTION"
   ]
  },
  {
   "cell_type": "code",
   "execution_count": 183,
   "id": "d2b92d06",
   "metadata": {},
   "outputs": [],
   "source": [
    "# Training data prediction\n",
    "y_pred_lasso_train = lass.predict(X_train)\n",
    "\n",
    "# Testing data prediction\n",
    "y_pred_lasso_test = lass.predict(X_test)"
   ]
  },
  {
   "cell_type": "code",
   "execution_count": null,
   "id": "886dd085",
   "metadata": {},
   "outputs": [],
   "source": []
  },
  {
   "cell_type": "code",
   "execution_count": 184,
   "id": "da68e6f7",
   "metadata": {},
   "outputs": [
    {
     "name": "stdout",
     "output_type": "stream",
     "text": [
      "Actual prices of the land\n",
      "\n",
      " [27000 51000 43000 47500] \n",
      "\n",
      " Predicted prices by Random Forest regression model\n",
      " [28284.06 52330.23 39387.41 46129.95]\n"
     ]
    }
   ],
   "source": [
    "print('Actual prices of the land\\n\\n', y_test,'\\n\\n Predicted prices by Random Forest regression model\\n',y_pred_lasso_test.round(2))\n",
    "\n",
    "\n",
    "# print('\\nPredicted prices by the linear regression model\\n\\n', y_pred_rand.round(2))"
   ]
  },
  {
   "cell_type": "markdown",
   "id": "3cd351f9",
   "metadata": {},
   "source": [
    "#### Prediction difference"
   ]
  },
  {
   "cell_type": "code",
   "execution_count": 188,
   "id": "e70722cf",
   "metadata": {},
   "outputs": [
    {
     "data": {
      "text/plain": [
       "array([ 1284.06,  1330.23, -3612.59, -1370.05])"
      ]
     },
     "execution_count": 188,
     "metadata": {},
     "output_type": "execute_result"
    }
   ],
   "source": [
    "prediction_difference = y_pred_lasso_test - y_test\n",
    "prediction_difference.round(2)"
   ]
  },
  {
   "cell_type": "markdown",
   "id": "5d3d4149",
   "metadata": {},
   "source": [
    "This model gave a prediction difference of the predicted prices from the actual land prices to be -3612.59 to 1330.23\n",
    "This range is definitely more further apart compared with that of random forest."
   ]
  },
  {
   "cell_type": "markdown",
   "id": "18166f5f",
   "metadata": {},
   "source": [
    "#### R SQUARED VALUES"
   ]
  },
  {
   "cell_type": "code",
   "execution_count": 190,
   "id": "14b2a7ab",
   "metadata": {},
   "outputs": [
    {
     "name": "stdout",
     "output_type": "stream",
     "text": [
      "R square values:- goodness of fit\n",
      "Training data:  0.97 Testing data:  0.95\n"
     ]
    }
   ],
   "source": [
    "# Training data r square value\n",
    "lasso_r_square_train = r2_score(y_train, y_pred_lasso_train)\n",
    "\n",
    "# Testing data r square value\n",
    "lasso_r_square_test = r2_score(y_test, y_pred_lasso_test)\n",
    "      \n",
    "print('R square values:- goodness of fit')\n",
    "print('Training data: ', lasso_r_square_train.round(2),'Testing data: ',lasso_r_square_test.round(2) )"
   ]
  },
  {
   "cell_type": "markdown",
   "id": "a7289027",
   "metadata": {},
   "source": [
    "The R Squared value has shown a great knowledge on the variation of the unseen data. However, the random forest regression model should be adopted for this dataset because, it has a close difference in the price predicted. Also in the variation between the test and training data. "
   ]
  },
  {
   "cell_type": "code",
   "execution_count": null,
   "id": "a4dde41c",
   "metadata": {},
   "outputs": [],
   "source": []
  }
 ],
 "metadata": {
  "kernelspec": {
   "display_name": "Python 3 (ipykernel)",
   "language": "python",
   "name": "python3"
  },
  "language_info": {
   "codemirror_mode": {
    "name": "ipython",
    "version": 3
   },
   "file_extension": ".py",
   "mimetype": "text/x-python",
   "name": "python",
   "nbconvert_exporter": "python",
   "pygments_lexer": "ipython3",
   "version": "3.10.9"
  }
 },
 "nbformat": 4,
 "nbformat_minor": 5
}
