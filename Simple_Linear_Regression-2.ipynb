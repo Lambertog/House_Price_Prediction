{
 "cells": [
  {
   "cell_type": "markdown",
   "id": "ed1f60f8",
   "metadata": {},
   "source": [
    "### Prediciting the price of land in a region in the US with a historic data on size of the land with the price."
   ]
  },
  {
   "cell_type": "code",
   "execution_count": 16,
   "id": "866218b8",
   "metadata": {},
   "outputs": [],
   "source": [
    "# Import the libraries needed\n",
    "\n",
    "import pandas as pd\n",
    "from sklearn.model_selection import train_test_split\n",
    "from sklearn.linear_model import LinearRegression\n",
    "import numpy as np\n",
    "import matplotlib.pyplot as plt\n"
   ]
  },
  {
   "cell_type": "code",
   "execution_count": 17,
   "id": "5a8fcf5a",
   "metadata": {},
   "outputs": [
    {
     "data": {
      "text/html": [
       "<div>\n",
       "<style scoped>\n",
       "    .dataframe tbody tr th:only-of-type {\n",
       "        vertical-align: middle;\n",
       "    }\n",
       "\n",
       "    .dataframe tbody tr th {\n",
       "        vertical-align: top;\n",
       "    }\n",
       "\n",
       "    .dataframe thead th {\n",
       "        text-align: right;\n",
       "    }\n",
       "</style>\n",
       "<table border=\"1\" class=\"dataframe\">\n",
       "  <thead>\n",
       "    <tr style=\"text-align: right;\">\n",
       "      <th></th>\n",
       "      <th>Area of Land in Thousand Sq Foot</th>\n",
       "      <th>Price of Land in Million USD</th>\n",
       "    </tr>\n",
       "  </thead>\n",
       "  <tbody>\n",
       "    <tr>\n",
       "      <th>0</th>\n",
       "      <td>91</td>\n",
       "      <td>12.0</td>\n",
       "    </tr>\n",
       "    <tr>\n",
       "      <th>1</th>\n",
       "      <td>66</td>\n",
       "      <td>7.0</td>\n",
       "    </tr>\n",
       "    <tr>\n",
       "      <th>2</th>\n",
       "      <td>72</td>\n",
       "      <td>8.0</td>\n",
       "    </tr>\n",
       "    <tr>\n",
       "      <th>3</th>\n",
       "      <td>73</td>\n",
       "      <td>8.1</td>\n",
       "    </tr>\n",
       "    <tr>\n",
       "      <th>4</th>\n",
       "      <td>60</td>\n",
       "      <td>7.0</td>\n",
       "    </tr>\n",
       "    <tr>\n",
       "      <th>5</th>\n",
       "      <td>86</td>\n",
       "      <td>11.0</td>\n",
       "    </tr>\n",
       "    <tr>\n",
       "      <th>6</th>\n",
       "      <td>66</td>\n",
       "      <td>7.0</td>\n",
       "    </tr>\n",
       "    <tr>\n",
       "      <th>7</th>\n",
       "      <td>56</td>\n",
       "      <td>6.0</td>\n",
       "    </tr>\n",
       "    <tr>\n",
       "      <th>8</th>\n",
       "      <td>85</td>\n",
       "      <td>11.0</td>\n",
       "    </tr>\n",
       "    <tr>\n",
       "      <th>9</th>\n",
       "      <td>95</td>\n",
       "      <td>12.0</td>\n",
       "    </tr>\n",
       "    <tr>\n",
       "      <th>10</th>\n",
       "      <td>94</td>\n",
       "      <td>12.0</td>\n",
       "    </tr>\n",
       "    <tr>\n",
       "      <th>11</th>\n",
       "      <td>120</td>\n",
       "      <td>15.0</td>\n",
       "    </tr>\n",
       "    <tr>\n",
       "      <th>12</th>\n",
       "      <td>90</td>\n",
       "      <td>12.0</td>\n",
       "    </tr>\n",
       "    <tr>\n",
       "      <th>13</th>\n",
       "      <td>75</td>\n",
       "      <td>8.0</td>\n",
       "    </tr>\n",
       "    <tr>\n",
       "      <th>14</th>\n",
       "      <td>114</td>\n",
       "      <td>14.0</td>\n",
       "    </tr>\n",
       "    <tr>\n",
       "      <th>15</th>\n",
       "      <td>153</td>\n",
       "      <td>19.0</td>\n",
       "    </tr>\n",
       "    <tr>\n",
       "      <th>16</th>\n",
       "      <td>37</td>\n",
       "      <td>4.0</td>\n",
       "    </tr>\n",
       "    <tr>\n",
       "      <th>17</th>\n",
       "      <td>150</td>\n",
       "      <td>19.0</td>\n",
       "    </tr>\n",
       "    <tr>\n",
       "      <th>18</th>\n",
       "      <td>76</td>\n",
       "      <td>9.0</td>\n",
       "    </tr>\n",
       "    <tr>\n",
       "      <th>19</th>\n",
       "      <td>100</td>\n",
       "      <td>13.0</td>\n",
       "    </tr>\n",
       "    <tr>\n",
       "      <th>20</th>\n",
       "      <td>79</td>\n",
       "      <td>9.1</td>\n",
       "    </tr>\n",
       "    <tr>\n",
       "      <th>21</th>\n",
       "      <td>80</td>\n",
       "      <td>9.3</td>\n",
       "    </tr>\n",
       "    <tr>\n",
       "      <th>22</th>\n",
       "      <td>78</td>\n",
       "      <td>13.0</td>\n",
       "    </tr>\n",
       "  </tbody>\n",
       "</table>\n",
       "</div>"
      ],
      "text/plain": [
       "    Area of Land in Thousand Sq Foot  Price of Land in Million USD\n",
       "0                                 91                          12.0\n",
       "1                                 66                           7.0\n",
       "2                                 72                           8.0\n",
       "3                                 73                           8.1\n",
       "4                                 60                           7.0\n",
       "5                                 86                          11.0\n",
       "6                                 66                           7.0\n",
       "7                                 56                           6.0\n",
       "8                                 85                          11.0\n",
       "9                                 95                          12.0\n",
       "10                                94                          12.0\n",
       "11                               120                          15.0\n",
       "12                                90                          12.0\n",
       "13                                75                           8.0\n",
       "14                               114                          14.0\n",
       "15                               153                          19.0\n",
       "16                                37                           4.0\n",
       "17                               150                          19.0\n",
       "18                                76                           9.0\n",
       "19                               100                          13.0\n",
       "20                                79                           9.1\n",
       "21                                80                           9.3\n",
       "22                                78                          13.0"
      ]
     },
     "execution_count": 17,
     "metadata": {},
     "output_type": "execute_result"
    }
   ],
   "source": [
    "# import the dataset\n",
    "dataset = pd.read_csv('/Users/lambertagunbiade/Desktop/SUPERVISED MACHINE LEARNING /Regression Analysis/landprice.csv')\n",
    "dataset"
   ]
  },
  {
   "cell_type": "markdown",
   "id": "edbed07d",
   "metadata": {},
   "source": [
    "• The dataset is two variables: Area of the land in thousand squarefoot and price of the land in million dollars."
   ]
  },
  {
   "cell_type": "markdown",
   "id": "5910eb53",
   "metadata": {},
   "source": [
    "#### Assign two varibles X , Y for the area and price of the land respectively.\n",
    "• Note: The price of the land (Y) is the independent variable which will be determined by the area of the land."
   ]
  },
  {
   "cell_type": "markdown",
   "id": "1ebff796",
   "metadata": {},
   "source": [
    "#### Separate the response variable from the from the predictor"
   ]
  },
  {
   "cell_type": "code",
   "execution_count": 18,
   "id": "dfe00757",
   "metadata": {},
   "outputs": [],
   "source": [
    "X = dataset.iloc[0:, 0].values # read all rows from index zero to row number 22. i.e 23 and first column i.e '0'\n",
    "Y = dataset.iloc[0:, -1].values # All rows and the last column. ---For this, we consider the last column. i.e '-1'"
   ]
  },
  {
   "cell_type": "markdown",
   "id": "15dc2f8d",
   "metadata": {},
   "source": [
    "#### View the data set of the respective variables\n"
   ]
  },
  {
   "cell_type": "code",
   "execution_count": 19,
   "id": "e6488703",
   "metadata": {},
   "outputs": [
    {
     "name": "stdout",
     "output_type": "stream",
     "text": [
      "[ 91  66  72  73  60  86  66  56  85  95  94 120  90  75 114 153  37 150\n",
      "  76 100  79  80  78]\n"
     ]
    }
   ],
   "source": [
    "print(X)"
   ]
  },
  {
   "cell_type": "code",
   "execution_count": 20,
   "id": "e4f42d1b",
   "metadata": {},
   "outputs": [
    {
     "name": "stdout",
     "output_type": "stream",
     "text": [
      "[12.   7.   8.   8.1  7.  11.   7.   6.  11.  12.  12.  15.  12.   8.\n",
      " 14.  19.   4.  19.   9.  13.   9.1  9.3 13. ]\n"
     ]
    }
   ],
   "source": [
    "print(Y)"
   ]
  },
  {
   "cell_type": "code",
   "execution_count": 21,
   "id": "36b68ac9",
   "metadata": {},
   "outputs": [],
   "source": [
    "# Now split X and Y into training and testing data\n",
    "X_train,X_test, Y_train, Y_test = train_test_split(X,Y, test_size=0.4, random_state=0)"
   ]
  },
  {
   "cell_type": "markdown",
   "id": "232bb4c9",
   "metadata": {},
   "source": [
    "#### Instatiate the linear regression object to fit the dataset. However, our dataset has been splitted into one variable each."
   ]
  },
  {
   "cell_type": "code",
   "execution_count": 22,
   "id": "b40794ac",
   "metadata": {},
   "outputs": [],
   "source": [
    "# i.e X_train,X_test, Y_train, Y_test each contains one variable which is transformed into one dimensional array\n",
    "# since the model expects a two dimensional array, the transformed variables will have to be reshaped to two dimensional array.\n",
    "\n",
    "\n",
    "# However, this is different for multiple regression (more than one independent variable). In this case, the reshape\n",
    "# block of code will not be required.\n",
    "\n",
    "X_train1 = np.reshape(X_train,(-1,1))\n",
    "Y_train1 = np.reshape(Y_train,(-1,1))\n",
    "\n",
    "X_test1 = np.reshape(X_test,(-1,1))\n",
    "Y_test1 = np.reshape(Y_test,(-1,1))"
   ]
  },
  {
   "cell_type": "code",
   "execution_count": 23,
   "id": "1e6bbdc8",
   "metadata": {},
   "outputs": [
    {
     "data": {
      "text/html": [
       "<style>#sk-container-id-1 {color: black;}#sk-container-id-1 pre{padding: 0;}#sk-container-id-1 div.sk-toggleable {background-color: white;}#sk-container-id-1 label.sk-toggleable__label {cursor: pointer;display: block;width: 100%;margin-bottom: 0;padding: 0.3em;box-sizing: border-box;text-align: center;}#sk-container-id-1 label.sk-toggleable__label-arrow:before {content: \"▸\";float: left;margin-right: 0.25em;color: #696969;}#sk-container-id-1 label.sk-toggleable__label-arrow:hover:before {color: black;}#sk-container-id-1 div.sk-estimator:hover label.sk-toggleable__label-arrow:before {color: black;}#sk-container-id-1 div.sk-toggleable__content {max-height: 0;max-width: 0;overflow: hidden;text-align: left;background-color: #f0f8ff;}#sk-container-id-1 div.sk-toggleable__content pre {margin: 0.2em;color: black;border-radius: 0.25em;background-color: #f0f8ff;}#sk-container-id-1 input.sk-toggleable__control:checked~div.sk-toggleable__content {max-height: 200px;max-width: 100%;overflow: auto;}#sk-container-id-1 input.sk-toggleable__control:checked~label.sk-toggleable__label-arrow:before {content: \"▾\";}#sk-container-id-1 div.sk-estimator input.sk-toggleable__control:checked~label.sk-toggleable__label {background-color: #d4ebff;}#sk-container-id-1 div.sk-label input.sk-toggleable__control:checked~label.sk-toggleable__label {background-color: #d4ebff;}#sk-container-id-1 input.sk-hidden--visually {border: 0;clip: rect(1px 1px 1px 1px);clip: rect(1px, 1px, 1px, 1px);height: 1px;margin: -1px;overflow: hidden;padding: 0;position: absolute;width: 1px;}#sk-container-id-1 div.sk-estimator {font-family: monospace;background-color: #f0f8ff;border: 1px dotted black;border-radius: 0.25em;box-sizing: border-box;margin-bottom: 0.5em;}#sk-container-id-1 div.sk-estimator:hover {background-color: #d4ebff;}#sk-container-id-1 div.sk-parallel-item::after {content: \"\";width: 100%;border-bottom: 1px solid gray;flex-grow: 1;}#sk-container-id-1 div.sk-label:hover label.sk-toggleable__label {background-color: #d4ebff;}#sk-container-id-1 div.sk-serial::before {content: \"\";position: absolute;border-left: 1px solid gray;box-sizing: border-box;top: 0;bottom: 0;left: 50%;z-index: 0;}#sk-container-id-1 div.sk-serial {display: flex;flex-direction: column;align-items: center;background-color: white;padding-right: 0.2em;padding-left: 0.2em;position: relative;}#sk-container-id-1 div.sk-item {position: relative;z-index: 1;}#sk-container-id-1 div.sk-parallel {display: flex;align-items: stretch;justify-content: center;background-color: white;position: relative;}#sk-container-id-1 div.sk-item::before, #sk-container-id-1 div.sk-parallel-item::before {content: \"\";position: absolute;border-left: 1px solid gray;box-sizing: border-box;top: 0;bottom: 0;left: 50%;z-index: -1;}#sk-container-id-1 div.sk-parallel-item {display: flex;flex-direction: column;z-index: 1;position: relative;background-color: white;}#sk-container-id-1 div.sk-parallel-item:first-child::after {align-self: flex-end;width: 50%;}#sk-container-id-1 div.sk-parallel-item:last-child::after {align-self: flex-start;width: 50%;}#sk-container-id-1 div.sk-parallel-item:only-child::after {width: 0;}#sk-container-id-1 div.sk-dashed-wrapped {border: 1px dashed gray;margin: 0 0.4em 0.5em 0.4em;box-sizing: border-box;padding-bottom: 0.4em;background-color: white;}#sk-container-id-1 div.sk-label label {font-family: monospace;font-weight: bold;display: inline-block;line-height: 1.2em;}#sk-container-id-1 div.sk-label-container {text-align: center;}#sk-container-id-1 div.sk-container {/* jupyter's `normalize.less` sets `[hidden] { display: none; }` but bootstrap.min.css set `[hidden] { display: none !important; }` so we also need the `!important` here to be able to override the default hidden behavior on the sphinx rendered scikit-learn.org. See: https://github.com/scikit-learn/scikit-learn/issues/21755 */display: inline-block !important;position: relative;}#sk-container-id-1 div.sk-text-repr-fallback {display: none;}</style><div id=\"sk-container-id-1\" class=\"sk-top-container\"><div class=\"sk-text-repr-fallback\"><pre>LinearRegression()</pre><b>In a Jupyter environment, please rerun this cell to show the HTML representation or trust the notebook. <br />On GitHub, the HTML representation is unable to render, please try loading this page with nbviewer.org.</b></div><div class=\"sk-container\" hidden><div class=\"sk-item\"><div class=\"sk-estimator sk-toggleable\"><input class=\"sk-toggleable__control sk-hidden--visually\" id=\"sk-estimator-id-1\" type=\"checkbox\" checked><label for=\"sk-estimator-id-1\" class=\"sk-toggleable__label sk-toggleable__label-arrow\">LinearRegression</label><div class=\"sk-toggleable__content\"><pre>LinearRegression()</pre></div></div></div></div></div>"
      ],
      "text/plain": [
       "LinearRegression()"
      ]
     },
     "execution_count": 23,
     "metadata": {},
     "output_type": "execute_result"
    }
   ],
   "source": [
    "# Instatiate the linear Regression class and fit the training data with the linear regression object.\n",
    "lin_regressor = LinearRegression()\n",
    "lin_regressor.fit(X_train1, Y_train1)"
   ]
  },
  {
   "cell_type": "markdown",
   "id": "4be9b11f",
   "metadata": {},
   "source": [
    "### Model prediction\n",
    "• In simple terms, give the model the areas of the land to predict the prices and check for its nearness to being a goodfit for the dataset."
   ]
  },
  {
   "cell_type": "code",
   "execution_count": 24,
   "id": "0b97e03c",
   "metadata": {},
   "outputs": [],
   "source": [
    "# for the test data\n",
    "Y_Predict_test1 = lin_regressor.predict(X_test1)\n",
    "\n",
    "# For the training data \n",
    "Y_Predict_train1 = lin_regressor.predict(X_train1)"
   ]
  },
  {
   "cell_type": "code",
   "execution_count": 25,
   "id": "6b473277",
   "metadata": {
    "scrolled": true
   },
   "outputs": [
    {
     "name": "stdout",
     "output_type": "stream",
     "text": [
      "Predicted training data \n",
      "\n",
      " [[ 7.74]\n",
      " [19.25]\n",
      " [ 6.92]\n",
      " [ 8.56]\n",
      " [10.48]\n",
      " [ 9.11]\n",
      " [11.71]\n",
      " [ 6.37]\n",
      " [12.4 ]\n",
      " [ 8.7 ]\n",
      " [11.17]\n",
      " [19.66]\n",
      " [11.03]] \n",
      "\n",
      "Predicted test data\n",
      "\n",
      " [[15.14]\n",
      " [11.58]\n",
      " [ 9.66]\n",
      " [14.32]\n",
      " [ 9.52]\n",
      " [ 7.74]\n",
      " [ 8.97]\n",
      " [ 9.39]\n",
      " [ 3.77]\n",
      " [10.34]]\n"
     ]
    }
   ],
   "source": [
    "print('Predicted training data \\n\\n', Y_Predict_train1.round(2),'\\n\\nPredicted test data\\n\\n',Y_Predict_test1.round(2))"
   ]
  },
  {
   "cell_type": "markdown",
   "id": "865d7673",
   "metadata": {},
   "source": []
  },
  {
   "cell_type": "code",
   "execution_count": null,
   "id": "d899f668",
   "metadata": {},
   "outputs": [],
   "source": []
  },
  {
   "cell_type": "markdown",
   "id": "387aa189",
   "metadata": {},
   "source": [
    "## MODEL PERFORMANCE"
   ]
  },
  {
   "cell_type": "markdown",
   "id": "accab77d",
   "metadata": {},
   "source": [
    "#### Model Performance on test data"
   ]
  },
  {
   "cell_type": "code",
   "execution_count": 26,
   "id": "312f5368",
   "metadata": {},
   "outputs": [
    {
     "name": "stdout",
     "output_type": "stream",
     "text": [
      "Actual price($)\n",
      "\n",
      " [[120]\n",
      " [ 94]\n",
      " [ 80]\n",
      " [114]\n",
      " [ 79]\n",
      " [ 66]\n",
      " [ 75]\n",
      " [ 78]\n",
      " [ 37]\n",
      " [ 85]]\n"
     ]
    }
   ],
   "source": [
    "# Original size of the land\n",
    "print('Actual price($)\\n\\n', X_test1)"
   ]
  },
  {
   "cell_type": "markdown",
   "id": "233bbea7",
   "metadata": {},
   "source": [
    "#### Comparing actual price of the land with the predicted price of the land"
   ]
  },
  {
   "cell_type": "code",
   "execution_count": 27,
   "id": "b59698a4",
   "metadata": {},
   "outputs": [
    {
     "name": "stdout",
     "output_type": "stream",
     "text": [
      "Actual price($)\n",
      "\n",
      " [[15. ]\n",
      " [12. ]\n",
      " [ 9.3]\n",
      " [14. ]\n",
      " [ 9.1]\n",
      " [ 7. ]\n",
      " [ 8. ]\n",
      " [13. ]\n",
      " [ 4. ]\n",
      " [11. ]] \n",
      "\n",
      " Predicted price($)\n",
      "\n",
      " [[15.14]\n",
      " [11.58]\n",
      " [ 9.66]\n",
      " [14.32]\n",
      " [ 9.52]\n",
      " [ 7.74]\n",
      " [ 8.97]\n",
      " [ 9.39]\n",
      " [ 3.77]\n",
      " [10.34]]\n"
     ]
    }
   ],
   "source": [
    "print('Actual price($)\\n\\n', Y_test1,'\\n\\n Predicted price($)\\n\\n', Y_Predict_test1.round(2))"
   ]
  },
  {
   "cell_type": "markdown",
   "id": "b6be376f",
   "metadata": {},
   "source": [
    "Obviously, the model almost predicted the exact price of the land at a close margine.\n",
    "This shows this model is doing well in this regard"
   ]
  },
  {
   "cell_type": "markdown",
   "id": "5a8d5860",
   "metadata": {},
   "source": [
    "#### Model Performance on training data"
   ]
  },
  {
   "cell_type": "code",
   "execution_count": 28,
   "id": "e9712f02",
   "metadata": {},
   "outputs": [
    {
     "name": "stdout",
     "output_type": "stream",
     "text": [
      "Actual price($)\n",
      "\n",
      " [[ 66]\n",
      " [150]\n",
      " [ 60]\n",
      " [ 72]\n",
      " [ 86]\n",
      " [ 76]\n",
      " [ 95]\n",
      " [ 56]\n",
      " [100]\n",
      " [ 73]\n",
      " [ 91]\n",
      " [153]\n",
      " [ 90]]\n"
     ]
    }
   ],
   "source": [
    "# Predicted areas of land in thousand square foot\n",
    "print('Actual price($)\\n\\n', X_train1)"
   ]
  },
  {
   "cell_type": "markdown",
   "id": "6ff4f229",
   "metadata": {},
   "source": [
    "####  Actual trainning Prices versus predicted prices"
   ]
  },
  {
   "cell_type": "code",
   "execution_count": 29,
   "id": "dde6e9bf",
   "metadata": {},
   "outputs": [
    {
     "name": "stdout",
     "output_type": "stream",
     "text": [
      "Actual training price($)\n",
      "\n",
      " [[ 7. ]\n",
      " [19. ]\n",
      " [ 7. ]\n",
      " [ 8. ]\n",
      " [11. ]\n",
      " [ 9. ]\n",
      " [12. ]\n",
      " [ 6. ]\n",
      " [13. ]\n",
      " [ 8.1]\n",
      " [12. ]\n",
      " [19. ]\n",
      " [12. ]] \n",
      "\n",
      " Predicted price($)\n",
      "\n",
      " [[ 7.74]\n",
      " [19.25]\n",
      " [ 6.92]\n",
      " [ 8.56]\n",
      " [10.48]\n",
      " [ 9.11]\n",
      " [11.71]\n",
      " [ 6.37]\n",
      " [12.4 ]\n",
      " [ 8.7 ]\n",
      " [11.17]\n",
      " [19.66]\n",
      " [11.03]]\n"
     ]
    }
   ],
   "source": [
    "print('Actual training price($)\\n\\n', Y_train1,'\\n\\n Predicted price($)\\n\\n', Y_Predict_train1.round(2))"
   ]
  },
  {
   "cell_type": "markdown",
   "id": "b4ffdad4",
   "metadata": {},
   "source": [
    "Originally, for an area size of 120 square foot size of land, actual is 15M USD.\n",
    "However, from our test prediction, for such an area of land, the price is 15.14M USD.\n",
    "\n",
    "A look at the size of land used for the training data and its respective prices,\n",
    "our model says, for an area of land of size 66 thousand square foot, our model predicted the price as 7.74M USD as against the training price of 7M USD. \n",
    "Categorically, this model is doing well for both the training and testing data but its important we check for its erros to validate its goodness of fit for future predictions."
   ]
  },
  {
   "cell_type": "markdown",
   "id": "154c865c",
   "metadata": {},
   "source": [
    "### Let us visualize our training and testing data on a scatter plot respectively"
   ]
  },
  {
   "cell_type": "code",
   "execution_count": 30,
   "id": "e1c55ce5",
   "metadata": {},
   "outputs": [
    {
     "data": {
      "image/png": "[encoded data removed]",
      "text/plain": [
       "<Figure size 640x480 with 1 Axes>"
      ]
     },
     "metadata": {},
     "output_type": "display_data"
    }
   ],
   "source": [
    "plt.scatter(X_train1,Y_train1, color='blue')\n",
    "\n",
    "#plot the regression line across the data points.\n",
    "# recall that, regression line is a prediction line. Hence, the second object has to be the predicted function of the dataset\n",
    "plt.plot(X_train1, Y_Predict_train1, color='red')\n",
    "plt.title('Area VS Price of the Land for training data')\n",
    "    \n",
    "plt.xlabel('Area of the Land in thousand square foot')\n",
    "plt.ylabel('Price of the Land in million USD')\n",
    "plt.show()"
   ]
  },
  {
   "cell_type": "code",
   "execution_count": null,
   "id": "aeb8df28",
   "metadata": {},
   "outputs": [],
   "source": []
  },
  {
   "cell_type": "code",
   "execution_count": 31,
   "id": "2cff196e",
   "metadata": {},
   "outputs": [
    {
     "data": {
      "image/png": "[encoded data removed]",
      "text/plain": [
       "<Figure size 640x480 with 1 Axes>"
      ]
     },
     "metadata": {},
     "output_type": "display_data"
    }
   ],
   "source": [
    "plt.scatter(X_test1,Y_test1, color='blue')\n",
    "\n",
    "# recall that, regression line is a prediction line. Hence, the second object has to be the predicted function of the dataset\n",
    "plt.plot(X_test1,Y_Predict_test1 ,color='red') \n",
    "    \n",
    "plt.title('Area VS Price of the Land for testing data')\n",
    "    \n",
    "plt.xlabel('Area of the Land in thousand square foot')\n",
    "plt.ylabel('Price of the Land in million USD')\n",
    "plt.show()"
   ]
  },
  {
   "cell_type": "markdown",
   "id": "c99e073a",
   "metadata": {},
   "source": [
    "The scatter plot shows the prices of the land(data points) at a close margine to the regression line.\n",
    "This means the model is doing well for both cases."
   ]
  },
  {
   "cell_type": "markdown",
   "id": "331d7e35",
   "metadata": {},
   "source": [
    "#### Now let us visualize the original training and testing data\n",
    "Recall that X, Y  denotes test ,training data for both variables from \n",
    "the split function as X and Y\n"
   ]
  },
  {
   "cell_type": "code",
   "execution_count": 32,
   "id": "266001d3",
   "metadata": {},
   "outputs": [
    {
     "data": {
      "image/png": "[encoded data removed]",
      "text/plain": [
       "<Figure size 640x480 with 1 Axes>"
      ]
     },
     "metadata": {},
     "output_type": "display_data"
    }
   ],
   "source": [
    "plt.scatter(X,Y, color='blue')\n",
    "\n",
    "#plt.plot(X,Y ,color='red') \n",
    "    \n",
    "plt.title('Area VS Price of the Land (for both testing and training data)')\n",
    "    \n",
    "plt.xlabel('Area of the Land in thousand square foot')\n",
    "plt.ylabel('Price of the Land in million USD')\n",
    "plt.show()"
   ]
  },
  {
   "cell_type": "markdown",
   "id": "81bcf372",
   "metadata": {},
   "source": [
    "The red line is the model predicting line in all cases to see the nearness of all data points (prices of land) to \n",
    "the predicted values respectively.\n",
    "Next we will find out the value of R-squared to see how accurately of the model for future predictions."
   ]
  },
  {
   "cell_type": "markdown",
   "id": "c9f13a2f",
   "metadata": {},
   "source": [
    "### Coefficient of determination (R_Squared) also known as the goodness of fit."
   ]
  },
  {
   "cell_type": "markdown",
   "id": "7bc079dd",
   "metadata": {},
   "source": [
    "R-squared is a statistical measure that represents the goodness of fit of a regression model. \n",
    "The value of R-square lies between 0 to 1. Where we get R-square equals 1 when the model perfectly fits the data\n",
    "and there is no difference between the predicted value and actual value.\n",
    "https://www.geeksforgeeks.org/ml-r-squared-in-regression-analysis/\n",
    "\n",
    "\n",
    "R-Squared (R² or the coefficient of determination) is a statistical measure in a regression model that determines \n",
    "the proportion of variance in the dependent variable that can be explained by the independent variable. \n",
    "In other words, r-squared shows how well the data fit the regression model (the goodness of fit).\n",
    "https://corporatefinanceinstitute.com/resources/data-science/r-squared/"
   ]
  },
  {
   "cell_type": "code",
   "execution_count": 33,
   "id": "241efce0",
   "metadata": {},
   "outputs": [],
   "source": [
    "from sklearn.metrics import r2_score"
   ]
  },
  {
   "cell_type": "code",
   "execution_count": 34,
   "id": "22bb6eeb",
   "metadata": {},
   "outputs": [
    {
     "name": "stdout",
     "output_type": "stream",
     "text": [
      "0.8505174170816574\n"
     ]
    }
   ],
   "source": [
    "#For the testing data\n",
    "r_squre_test = r2_score(Y_test1, Y_Predict_test1)  # This takes two argument. The true and the predicted value\n",
    "\n",
    "print(r_squre_test)"
   ]
  },
  {
   "cell_type": "markdown",
   "id": "6371ab48",
   "metadata": {},
   "source": [
    "* 85% variation of the test data variation can be correctly explained by the model.\n",
    "This is a good value and can be used to predict future values of land."
   ]
  },
  {
   "cell_type": "code",
   "execution_count": 35,
   "id": "718e8294",
   "metadata": {
    "scrolled": true
   },
   "outputs": [
    {
     "name": "stdout",
     "output_type": "stream",
     "text": [
      "0.9801746682609226\n"
     ]
    }
   ],
   "source": [
    "#For the training data\n",
    "r_squre_train = r2_score(Y_train1, Y_Predict_train1)\n",
    "print(r_squre_train)"
   ]
  },
  {
   "cell_type": "markdown",
   "id": "197f1242",
   "metadata": {},
   "source": [
    "• The model looks great and almost perfect for the training data for being able to explain 98% of the training data."
   ]
  },
  {
   "cell_type": "code",
   "execution_count": null,
   "id": "7f3e99aa",
   "metadata": {},
   "outputs": [],
   "source": []
  },
  {
   "cell_type": "markdown",
   "id": "a1904f31",
   "metadata": {},
   "source": [
    "### A TEMPLATE TO PREDICT THE PRICE OF ANY AREA OF LAND WITH A GIVEN PRICE."
   ]
  },
  {
   "cell_type": "markdown",
   "id": "db5a7cdf",
   "metadata": {},
   "source": [
    "Task: Given an area 37 thousand square foot, predict the price of a land of size 37 thousand square foot."
   ]
  },
  {
   "cell_type": "markdown",
   "id": "79a9b774",
   "metadata": {},
   "source": [
    "**Recall that, the predict function requires two dimensional arrays. Hence, we will have to transform(reshape) the given value thus;**"
   ]
  },
  {
   "cell_type": "code",
   "execution_count": 36,
   "id": "bcce3ed4",
   "metadata": {},
   "outputs": [
    {
     "name": "stdout",
     "output_type": "stream",
     "text": [
      "[[3.77]]\n"
     ]
    }
   ],
   "source": [
    "Area = 37\n",
    "# Transform the area to fit into one column and one row\n",
    "trans_Area = np.reshape(Area, (1,1)) \n",
    "# invoke our instance of the regression class in line 12\n",
    "Pred_Price = lin_regressor.predict(trans_Area)\n",
    "print(Pred_Price.round(2))"
   ]
  },
  {
   "cell_type": "markdown",
   "id": "7af9a41a",
   "metadata": {},
   "source": [
    "The result shows that for an area of size 37 thousand square foot,the price predicted by the model is 3.77 million US dollars."
   ]
  },
  {
   "cell_type": "markdown",
   "id": "31f2a98a",
   "metadata": {},
   "source": [
    "You can input any value of area, transform into two dimensional array and pass it into the predict function to predict the price of the land."
   ]
  },
  {
   "cell_type": "code",
   "execution_count": 37,
   "id": "3d482bd8",
   "metadata": {},
   "outputs": [
    {
     "name": "stdout",
     "output_type": "stream",
     "text": [
      "[[33.49]]\n"
     ]
    }
   ],
   "source": [
    "#### In other ways, we can transform the area into two dimensional array for any given area of land.\n",
    "# say;\n",
    "\n",
    "trans_Area = np.array([[254]])\n",
    "Pred_Price = lin_regressor.predict(trans_Area)\n",
    "print(Pred_Price.round(2))"
   ]
  },
  {
   "cell_type": "code",
   "execution_count": null,
   "id": "3a3f2d84",
   "metadata": {},
   "outputs": [],
   "source": []
  }
 ],
 "metadata": {
  "kernelspec": {
   "display_name": "Python 3 (ipykernel)",
   "language": "python",
   "name": "python3"
  },
  "language_info": {
   "codemirror_mode": {
    "name": "ipython",
    "version": 3
   },
   "file_extension": ".py",
   "mimetype": "text/x-python",
   "name": "python",
   "nbconvert_exporter": "python",
   "pygments_lexer": "ipython3",
   "version": "3.10.9"
  }
 },
 "nbformat": 4,
 "nbformat_minor": 5
}
